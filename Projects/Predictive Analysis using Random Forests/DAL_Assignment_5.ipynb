{
  "nbformat": 4,
  "nbformat_minor": 0,
  "metadata": {
    "colab": {
      "provenance": []
    },
    "kernelspec": {
      "name": "python3",
      "display_name": "Python 3"
    },
    "language_info": {
      "name": "python"
    }
  },
  "cells": [
    {
      "cell_type": "code",
      "execution_count": 49,
      "metadata": {
        "id": "hEvA-vIFMx40"
      },
      "outputs": [],
      "source": [
        "import numpy as np\n",
        "import pandas as pd\n",
        "import matplotlib.pyplot as plt\n",
        "import seaborn as sns\n",
        "from sklearn.metrics import confusion_matrix, classification_report\n",
        "from sklearn.model_selection import train_test_split\n",
        "import category_encoders as ce\n",
        "from sklearn import metrics\n",
        "from sklearn.ensemble import RandomForestClassifier\n",
        "from sklearn.metrics import accuracy_score\n",
        "import graphviz\n",
        "from sklearn.tree import export_graphviz\n",
        "import warnings\n",
        "warnings.filterwarnings('ignore')"
      ]
    },
    {
      "cell_type": "code",
      "source": [
        "df = pd.read_excel('car_evaluation.xlsx', header=None)\n",
        "df.head()"
      ],
      "metadata": {
        "colab": {
          "base_uri": "https://localhost:8080/",
          "height": 206
        },
        "id": "NctSOsXsJFx_",
        "outputId": "23ff3761-be42-4d08-ccc5-6cd0fb398dac"
      },
      "execution_count": 9,
      "outputs": [
        {
          "output_type": "execute_result",
          "data": {
            "text/plain": [
              "       0      1  2  3      4     5      6\n",
              "0  vhigh  vhigh  2  2  small   low  unacc\n",
              "1  vhigh  vhigh  2  2  small   med  unacc\n",
              "2  vhigh  vhigh  2  2  small  high  unacc\n",
              "3  vhigh  vhigh  2  2    med   low  unacc\n",
              "4  vhigh  vhigh  2  2    med   med  unacc"
            ],
            "text/html": [
              "\n",
              "  <div id=\"df-2c9371c8-0757-401e-8091-6eb011ec3e66\" class=\"colab-df-container\">\n",
              "    <div>\n",
              "<style scoped>\n",
              "    .dataframe tbody tr th:only-of-type {\n",
              "        vertical-align: middle;\n",
              "    }\n",
              "\n",
              "    .dataframe tbody tr th {\n",
              "        vertical-align: top;\n",
              "    }\n",
              "\n",
              "    .dataframe thead th {\n",
              "        text-align: right;\n",
              "    }\n",
              "</style>\n",
              "<table border=\"1\" class=\"dataframe\">\n",
              "  <thead>\n",
              "    <tr style=\"text-align: right;\">\n",
              "      <th></th>\n",
              "      <th>0</th>\n",
              "      <th>1</th>\n",
              "      <th>2</th>\n",
              "      <th>3</th>\n",
              "      <th>4</th>\n",
              "      <th>5</th>\n",
              "      <th>6</th>\n",
              "    </tr>\n",
              "  </thead>\n",
              "  <tbody>\n",
              "    <tr>\n",
              "      <th>0</th>\n",
              "      <td>vhigh</td>\n",
              "      <td>vhigh</td>\n",
              "      <td>2</td>\n",
              "      <td>2</td>\n",
              "      <td>small</td>\n",
              "      <td>low</td>\n",
              "      <td>unacc</td>\n",
              "    </tr>\n",
              "    <tr>\n",
              "      <th>1</th>\n",
              "      <td>vhigh</td>\n",
              "      <td>vhigh</td>\n",
              "      <td>2</td>\n",
              "      <td>2</td>\n",
              "      <td>small</td>\n",
              "      <td>med</td>\n",
              "      <td>unacc</td>\n",
              "    </tr>\n",
              "    <tr>\n",
              "      <th>2</th>\n",
              "      <td>vhigh</td>\n",
              "      <td>vhigh</td>\n",
              "      <td>2</td>\n",
              "      <td>2</td>\n",
              "      <td>small</td>\n",
              "      <td>high</td>\n",
              "      <td>unacc</td>\n",
              "    </tr>\n",
              "    <tr>\n",
              "      <th>3</th>\n",
              "      <td>vhigh</td>\n",
              "      <td>vhigh</td>\n",
              "      <td>2</td>\n",
              "      <td>2</td>\n",
              "      <td>med</td>\n",
              "      <td>low</td>\n",
              "      <td>unacc</td>\n",
              "    </tr>\n",
              "    <tr>\n",
              "      <th>4</th>\n",
              "      <td>vhigh</td>\n",
              "      <td>vhigh</td>\n",
              "      <td>2</td>\n",
              "      <td>2</td>\n",
              "      <td>med</td>\n",
              "      <td>med</td>\n",
              "      <td>unacc</td>\n",
              "    </tr>\n",
              "  </tbody>\n",
              "</table>\n",
              "</div>\n",
              "    <div class=\"colab-df-buttons\">\n",
              "\n",
              "  <div class=\"colab-df-container\">\n",
              "    <button class=\"colab-df-convert\" onclick=\"convertToInteractive('df-2c9371c8-0757-401e-8091-6eb011ec3e66')\"\n",
              "            title=\"Convert this dataframe to an interactive table.\"\n",
              "            style=\"display:none;\">\n",
              "\n",
              "  <svg xmlns=\"http://www.w3.org/2000/svg\" height=\"24px\" viewBox=\"0 -960 960 960\">\n",
              "    <path d=\"M120-120v-720h720v720H120Zm60-500h600v-160H180v160Zm220 220h160v-160H400v160Zm0 220h160v-160H400v160ZM180-400h160v-160H180v160Zm440 0h160v-160H620v160ZM180-180h160v-160H180v160Zm440 0h160v-160H620v160Z\"/>\n",
              "  </svg>\n",
              "    </button>\n",
              "\n",
              "  <style>\n",
              "    .colab-df-container {\n",
              "      display:flex;\n",
              "      gap: 12px;\n",
              "    }\n",
              "\n",
              "    .colab-df-convert {\n",
              "      background-color: #E8F0FE;\n",
              "      border: none;\n",
              "      border-radius: 50%;\n",
              "      cursor: pointer;\n",
              "      display: none;\n",
              "      fill: #1967D2;\n",
              "      height: 32px;\n",
              "      padding: 0 0 0 0;\n",
              "      width: 32px;\n",
              "    }\n",
              "\n",
              "    .colab-df-convert:hover {\n",
              "      background-color: #E2EBFA;\n",
              "      box-shadow: 0px 1px 2px rgba(60, 64, 67, 0.3), 0px 1px 3px 1px rgba(60, 64, 67, 0.15);\n",
              "      fill: #174EA6;\n",
              "    }\n",
              "\n",
              "    .colab-df-buttons div {\n",
              "      margin-bottom: 4px;\n",
              "    }\n",
              "\n",
              "    [theme=dark] .colab-df-convert {\n",
              "      background-color: #3B4455;\n",
              "      fill: #D2E3FC;\n",
              "    }\n",
              "\n",
              "    [theme=dark] .colab-df-convert:hover {\n",
              "      background-color: #434B5C;\n",
              "      box-shadow: 0px 1px 3px 1px rgba(0, 0, 0, 0.15);\n",
              "      filter: drop-shadow(0px 1px 2px rgba(0, 0, 0, 0.3));\n",
              "      fill: #FFFFFF;\n",
              "    }\n",
              "  </style>\n",
              "\n",
              "    <script>\n",
              "      const buttonEl =\n",
              "        document.querySelector('#df-2c9371c8-0757-401e-8091-6eb011ec3e66 button.colab-df-convert');\n",
              "      buttonEl.style.display =\n",
              "        google.colab.kernel.accessAllowed ? 'block' : 'none';\n",
              "\n",
              "      async function convertToInteractive(key) {\n",
              "        const element = document.querySelector('#df-2c9371c8-0757-401e-8091-6eb011ec3e66');\n",
              "        const dataTable =\n",
              "          await google.colab.kernel.invokeFunction('convertToInteractive',\n",
              "                                                    [key], {});\n",
              "        if (!dataTable) return;\n",
              "\n",
              "        const docLinkHtml = 'Like what you see? Visit the ' +\n",
              "          '<a target=\"_blank\" href=https://colab.research.google.com/notebooks/data_table.ipynb>data table notebook</a>'\n",
              "          + ' to learn more about interactive tables.';\n",
              "        element.innerHTML = '';\n",
              "        dataTable['output_type'] = 'display_data';\n",
              "        await google.colab.output.renderOutput(dataTable, element);\n",
              "        const docLink = document.createElement('div');\n",
              "        docLink.innerHTML = docLinkHtml;\n",
              "        element.appendChild(docLink);\n",
              "      }\n",
              "    </script>\n",
              "  </div>\n",
              "\n",
              "\n",
              "<div id=\"df-afa33cf4-9736-4c26-a56c-f8a215aee275\">\n",
              "  <button class=\"colab-df-quickchart\" onclick=\"quickchart('df-afa33cf4-9736-4c26-a56c-f8a215aee275')\"\n",
              "            title=\"Suggest charts.\"\n",
              "            style=\"display:none;\">\n",
              "\n",
              "<svg xmlns=\"http://www.w3.org/2000/svg\" height=\"24px\"viewBox=\"0 0 24 24\"\n",
              "     width=\"24px\">\n",
              "    <g>\n",
              "        <path d=\"M19 3H5c-1.1 0-2 .9-2 2v14c0 1.1.9 2 2 2h14c1.1 0 2-.9 2-2V5c0-1.1-.9-2-2-2zM9 17H7v-7h2v7zm4 0h-2V7h2v10zm4 0h-2v-4h2v4z\"/>\n",
              "    </g>\n",
              "</svg>\n",
              "  </button>\n",
              "\n",
              "<style>\n",
              "  .colab-df-quickchart {\n",
              "      --bg-color: #E8F0FE;\n",
              "      --fill-color: #1967D2;\n",
              "      --hover-bg-color: #E2EBFA;\n",
              "      --hover-fill-color: #174EA6;\n",
              "      --disabled-fill-color: #AAA;\n",
              "      --disabled-bg-color: #DDD;\n",
              "  }\n",
              "\n",
              "  [theme=dark] .colab-df-quickchart {\n",
              "      --bg-color: #3B4455;\n",
              "      --fill-color: #D2E3FC;\n",
              "      --hover-bg-color: #434B5C;\n",
              "      --hover-fill-color: #FFFFFF;\n",
              "      --disabled-bg-color: #3B4455;\n",
              "      --disabled-fill-color: #666;\n",
              "  }\n",
              "\n",
              "  .colab-df-quickchart {\n",
              "    background-color: var(--bg-color);\n",
              "    border: none;\n",
              "    border-radius: 50%;\n",
              "    cursor: pointer;\n",
              "    display: none;\n",
              "    fill: var(--fill-color);\n",
              "    height: 32px;\n",
              "    padding: 0;\n",
              "    width: 32px;\n",
              "  }\n",
              "\n",
              "  .colab-df-quickchart:hover {\n",
              "    background-color: var(--hover-bg-color);\n",
              "    box-shadow: 0 1px 2px rgba(60, 64, 67, 0.3), 0 1px 3px 1px rgba(60, 64, 67, 0.15);\n",
              "    fill: var(--button-hover-fill-color);\n",
              "  }\n",
              "\n",
              "  .colab-df-quickchart-complete:disabled,\n",
              "  .colab-df-quickchart-complete:disabled:hover {\n",
              "    background-color: var(--disabled-bg-color);\n",
              "    fill: var(--disabled-fill-color);\n",
              "    box-shadow: none;\n",
              "  }\n",
              "\n",
              "  .colab-df-spinner {\n",
              "    border: 2px solid var(--fill-color);\n",
              "    border-color: transparent;\n",
              "    border-bottom-color: var(--fill-color);\n",
              "    animation:\n",
              "      spin 1s steps(1) infinite;\n",
              "  }\n",
              "\n",
              "  @keyframes spin {\n",
              "    0% {\n",
              "      border-color: transparent;\n",
              "      border-bottom-color: var(--fill-color);\n",
              "      border-left-color: var(--fill-color);\n",
              "    }\n",
              "    20% {\n",
              "      border-color: transparent;\n",
              "      border-left-color: var(--fill-color);\n",
              "      border-top-color: var(--fill-color);\n",
              "    }\n",
              "    30% {\n",
              "      border-color: transparent;\n",
              "      border-left-color: var(--fill-color);\n",
              "      border-top-color: var(--fill-color);\n",
              "      border-right-color: var(--fill-color);\n",
              "    }\n",
              "    40% {\n",
              "      border-color: transparent;\n",
              "      border-right-color: var(--fill-color);\n",
              "      border-top-color: var(--fill-color);\n",
              "    }\n",
              "    60% {\n",
              "      border-color: transparent;\n",
              "      border-right-color: var(--fill-color);\n",
              "    }\n",
              "    80% {\n",
              "      border-color: transparent;\n",
              "      border-right-color: var(--fill-color);\n",
              "      border-bottom-color: var(--fill-color);\n",
              "    }\n",
              "    90% {\n",
              "      border-color: transparent;\n",
              "      border-bottom-color: var(--fill-color);\n",
              "    }\n",
              "  }\n",
              "</style>\n",
              "\n",
              "  <script>\n",
              "    async function quickchart(key) {\n",
              "      const quickchartButtonEl =\n",
              "        document.querySelector('#' + key + ' button');\n",
              "      quickchartButtonEl.disabled = true;  // To prevent multiple clicks.\n",
              "      quickchartButtonEl.classList.add('colab-df-spinner');\n",
              "      try {\n",
              "        const charts = await google.colab.kernel.invokeFunction(\n",
              "            'suggestCharts', [key], {});\n",
              "      } catch (error) {\n",
              "        console.error('Error during call to suggestCharts:', error);\n",
              "      }\n",
              "      quickchartButtonEl.classList.remove('colab-df-spinner');\n",
              "      quickchartButtonEl.classList.add('colab-df-quickchart-complete');\n",
              "    }\n",
              "    (() => {\n",
              "      let quickchartButtonEl =\n",
              "        document.querySelector('#df-afa33cf4-9736-4c26-a56c-f8a215aee275 button');\n",
              "      quickchartButtonEl.style.display =\n",
              "        google.colab.kernel.accessAllowed ? 'block' : 'none';\n",
              "    })();\n",
              "  </script>\n",
              "</div>\n",
              "    </div>\n",
              "  </div>\n"
            ]
          },
          "metadata": {},
          "execution_count": 9
        }
      ]
    },
    {
      "cell_type": "code",
      "source": [
        "df.shape"
      ],
      "metadata": {
        "colab": {
          "base_uri": "https://localhost:8080/"
        },
        "id": "0AQwwoR6Jcz9",
        "outputId": "de988c2b-fd6e-4766-e3b3-70cbff815c20"
      },
      "execution_count": 10,
      "outputs": [
        {
          "output_type": "execute_result",
          "data": {
            "text/plain": [
              "(1728, 7)"
            ]
          },
          "metadata": {},
          "execution_count": 10
        }
      ]
    },
    {
      "cell_type": "code",
      "source": [
        "col_names = ['buying', 'maint', 'doors', 'persons', 'lug_boot', 'safety', 'class']\n",
        "\n",
        "df.columns = col_names\n",
        "df.head()"
      ],
      "metadata": {
        "colab": {
          "base_uri": "https://localhost:8080/",
          "height": 206
        },
        "id": "gL4OfTHKJf9Y",
        "outputId": "4320ce3e-3d4a-46f7-868e-1fdec16be2d7"
      },
      "execution_count": 11,
      "outputs": [
        {
          "output_type": "execute_result",
          "data": {
            "text/plain": [
              "  buying  maint doors persons lug_boot safety  class\n",
              "0  vhigh  vhigh     2       2    small    low  unacc\n",
              "1  vhigh  vhigh     2       2    small    med  unacc\n",
              "2  vhigh  vhigh     2       2    small   high  unacc\n",
              "3  vhigh  vhigh     2       2      med    low  unacc\n",
              "4  vhigh  vhigh     2       2      med    med  unacc"
            ],
            "text/html": [
              "\n",
              "  <div id=\"df-08b2cd9a-597e-4ee1-ae04-c679107ea79e\" class=\"colab-df-container\">\n",
              "    <div>\n",
              "<style scoped>\n",
              "    .dataframe tbody tr th:only-of-type {\n",
              "        vertical-align: middle;\n",
              "    }\n",
              "\n",
              "    .dataframe tbody tr th {\n",
              "        vertical-align: top;\n",
              "    }\n",
              "\n",
              "    .dataframe thead th {\n",
              "        text-align: right;\n",
              "    }\n",
              "</style>\n",
              "<table border=\"1\" class=\"dataframe\">\n",
              "  <thead>\n",
              "    <tr style=\"text-align: right;\">\n",
              "      <th></th>\n",
              "      <th>buying</th>\n",
              "      <th>maint</th>\n",
              "      <th>doors</th>\n",
              "      <th>persons</th>\n",
              "      <th>lug_boot</th>\n",
              "      <th>safety</th>\n",
              "      <th>class</th>\n",
              "    </tr>\n",
              "  </thead>\n",
              "  <tbody>\n",
              "    <tr>\n",
              "      <th>0</th>\n",
              "      <td>vhigh</td>\n",
              "      <td>vhigh</td>\n",
              "      <td>2</td>\n",
              "      <td>2</td>\n",
              "      <td>small</td>\n",
              "      <td>low</td>\n",
              "      <td>unacc</td>\n",
              "    </tr>\n",
              "    <tr>\n",
              "      <th>1</th>\n",
              "      <td>vhigh</td>\n",
              "      <td>vhigh</td>\n",
              "      <td>2</td>\n",
              "      <td>2</td>\n",
              "      <td>small</td>\n",
              "      <td>med</td>\n",
              "      <td>unacc</td>\n",
              "    </tr>\n",
              "    <tr>\n",
              "      <th>2</th>\n",
              "      <td>vhigh</td>\n",
              "      <td>vhigh</td>\n",
              "      <td>2</td>\n",
              "      <td>2</td>\n",
              "      <td>small</td>\n",
              "      <td>high</td>\n",
              "      <td>unacc</td>\n",
              "    </tr>\n",
              "    <tr>\n",
              "      <th>3</th>\n",
              "      <td>vhigh</td>\n",
              "      <td>vhigh</td>\n",
              "      <td>2</td>\n",
              "      <td>2</td>\n",
              "      <td>med</td>\n",
              "      <td>low</td>\n",
              "      <td>unacc</td>\n",
              "    </tr>\n",
              "    <tr>\n",
              "      <th>4</th>\n",
              "      <td>vhigh</td>\n",
              "      <td>vhigh</td>\n",
              "      <td>2</td>\n",
              "      <td>2</td>\n",
              "      <td>med</td>\n",
              "      <td>med</td>\n",
              "      <td>unacc</td>\n",
              "    </tr>\n",
              "  </tbody>\n",
              "</table>\n",
              "</div>\n",
              "    <div class=\"colab-df-buttons\">\n",
              "\n",
              "  <div class=\"colab-df-container\">\n",
              "    <button class=\"colab-df-convert\" onclick=\"convertToInteractive('df-08b2cd9a-597e-4ee1-ae04-c679107ea79e')\"\n",
              "            title=\"Convert this dataframe to an interactive table.\"\n",
              "            style=\"display:none;\">\n",
              "\n",
              "  <svg xmlns=\"http://www.w3.org/2000/svg\" height=\"24px\" viewBox=\"0 -960 960 960\">\n",
              "    <path d=\"M120-120v-720h720v720H120Zm60-500h600v-160H180v160Zm220 220h160v-160H400v160Zm0 220h160v-160H400v160ZM180-400h160v-160H180v160Zm440 0h160v-160H620v160ZM180-180h160v-160H180v160Zm440 0h160v-160H620v160Z\"/>\n",
              "  </svg>\n",
              "    </button>\n",
              "\n",
              "  <style>\n",
              "    .colab-df-container {\n",
              "      display:flex;\n",
              "      gap: 12px;\n",
              "    }\n",
              "\n",
              "    .colab-df-convert {\n",
              "      background-color: #E8F0FE;\n",
              "      border: none;\n",
              "      border-radius: 50%;\n",
              "      cursor: pointer;\n",
              "      display: none;\n",
              "      fill: #1967D2;\n",
              "      height: 32px;\n",
              "      padding: 0 0 0 0;\n",
              "      width: 32px;\n",
              "    }\n",
              "\n",
              "    .colab-df-convert:hover {\n",
              "      background-color: #E2EBFA;\n",
              "      box-shadow: 0px 1px 2px rgba(60, 64, 67, 0.3), 0px 1px 3px 1px rgba(60, 64, 67, 0.15);\n",
              "      fill: #174EA6;\n",
              "    }\n",
              "\n",
              "    .colab-df-buttons div {\n",
              "      margin-bottom: 4px;\n",
              "    }\n",
              "\n",
              "    [theme=dark] .colab-df-convert {\n",
              "      background-color: #3B4455;\n",
              "      fill: #D2E3FC;\n",
              "    }\n",
              "\n",
              "    [theme=dark] .colab-df-convert:hover {\n",
              "      background-color: #434B5C;\n",
              "      box-shadow: 0px 1px 3px 1px rgba(0, 0, 0, 0.15);\n",
              "      filter: drop-shadow(0px 1px 2px rgba(0, 0, 0, 0.3));\n",
              "      fill: #FFFFFF;\n",
              "    }\n",
              "  </style>\n",
              "\n",
              "    <script>\n",
              "      const buttonEl =\n",
              "        document.querySelector('#df-08b2cd9a-597e-4ee1-ae04-c679107ea79e button.colab-df-convert');\n",
              "      buttonEl.style.display =\n",
              "        google.colab.kernel.accessAllowed ? 'block' : 'none';\n",
              "\n",
              "      async function convertToInteractive(key) {\n",
              "        const element = document.querySelector('#df-08b2cd9a-597e-4ee1-ae04-c679107ea79e');\n",
              "        const dataTable =\n",
              "          await google.colab.kernel.invokeFunction('convertToInteractive',\n",
              "                                                    [key], {});\n",
              "        if (!dataTable) return;\n",
              "\n",
              "        const docLinkHtml = 'Like what you see? Visit the ' +\n",
              "          '<a target=\"_blank\" href=https://colab.research.google.com/notebooks/data_table.ipynb>data table notebook</a>'\n",
              "          + ' to learn more about interactive tables.';\n",
              "        element.innerHTML = '';\n",
              "        dataTable['output_type'] = 'display_data';\n",
              "        await google.colab.output.renderOutput(dataTable, element);\n",
              "        const docLink = document.createElement('div');\n",
              "        docLink.innerHTML = docLinkHtml;\n",
              "        element.appendChild(docLink);\n",
              "      }\n",
              "    </script>\n",
              "  </div>\n",
              "\n",
              "\n",
              "<div id=\"df-90230704-181d-4be4-b161-071cf359db0b\">\n",
              "  <button class=\"colab-df-quickchart\" onclick=\"quickchart('df-90230704-181d-4be4-b161-071cf359db0b')\"\n",
              "            title=\"Suggest charts.\"\n",
              "            style=\"display:none;\">\n",
              "\n",
              "<svg xmlns=\"http://www.w3.org/2000/svg\" height=\"24px\"viewBox=\"0 0 24 24\"\n",
              "     width=\"24px\">\n",
              "    <g>\n",
              "        <path d=\"M19 3H5c-1.1 0-2 .9-2 2v14c0 1.1.9 2 2 2h14c1.1 0 2-.9 2-2V5c0-1.1-.9-2-2-2zM9 17H7v-7h2v7zm4 0h-2V7h2v10zm4 0h-2v-4h2v4z\"/>\n",
              "    </g>\n",
              "</svg>\n",
              "  </button>\n",
              "\n",
              "<style>\n",
              "  .colab-df-quickchart {\n",
              "      --bg-color: #E8F0FE;\n",
              "      --fill-color: #1967D2;\n",
              "      --hover-bg-color: #E2EBFA;\n",
              "      --hover-fill-color: #174EA6;\n",
              "      --disabled-fill-color: #AAA;\n",
              "      --disabled-bg-color: #DDD;\n",
              "  }\n",
              "\n",
              "  [theme=dark] .colab-df-quickchart {\n",
              "      --bg-color: #3B4455;\n",
              "      --fill-color: #D2E3FC;\n",
              "      --hover-bg-color: #434B5C;\n",
              "      --hover-fill-color: #FFFFFF;\n",
              "      --disabled-bg-color: #3B4455;\n",
              "      --disabled-fill-color: #666;\n",
              "  }\n",
              "\n",
              "  .colab-df-quickchart {\n",
              "    background-color: var(--bg-color);\n",
              "    border: none;\n",
              "    border-radius: 50%;\n",
              "    cursor: pointer;\n",
              "    display: none;\n",
              "    fill: var(--fill-color);\n",
              "    height: 32px;\n",
              "    padding: 0;\n",
              "    width: 32px;\n",
              "  }\n",
              "\n",
              "  .colab-df-quickchart:hover {\n",
              "    background-color: var(--hover-bg-color);\n",
              "    box-shadow: 0 1px 2px rgba(60, 64, 67, 0.3), 0 1px 3px 1px rgba(60, 64, 67, 0.15);\n",
              "    fill: var(--button-hover-fill-color);\n",
              "  }\n",
              "\n",
              "  .colab-df-quickchart-complete:disabled,\n",
              "  .colab-df-quickchart-complete:disabled:hover {\n",
              "    background-color: var(--disabled-bg-color);\n",
              "    fill: var(--disabled-fill-color);\n",
              "    box-shadow: none;\n",
              "  }\n",
              "\n",
              "  .colab-df-spinner {\n",
              "    border: 2px solid var(--fill-color);\n",
              "    border-color: transparent;\n",
              "    border-bottom-color: var(--fill-color);\n",
              "    animation:\n",
              "      spin 1s steps(1) infinite;\n",
              "  }\n",
              "\n",
              "  @keyframes spin {\n",
              "    0% {\n",
              "      border-color: transparent;\n",
              "      border-bottom-color: var(--fill-color);\n",
              "      border-left-color: var(--fill-color);\n",
              "    }\n",
              "    20% {\n",
              "      border-color: transparent;\n",
              "      border-left-color: var(--fill-color);\n",
              "      border-top-color: var(--fill-color);\n",
              "    }\n",
              "    30% {\n",
              "      border-color: transparent;\n",
              "      border-left-color: var(--fill-color);\n",
              "      border-top-color: var(--fill-color);\n",
              "      border-right-color: var(--fill-color);\n",
              "    }\n",
              "    40% {\n",
              "      border-color: transparent;\n",
              "      border-right-color: var(--fill-color);\n",
              "      border-top-color: var(--fill-color);\n",
              "    }\n",
              "    60% {\n",
              "      border-color: transparent;\n",
              "      border-right-color: var(--fill-color);\n",
              "    }\n",
              "    80% {\n",
              "      border-color: transparent;\n",
              "      border-right-color: var(--fill-color);\n",
              "      border-bottom-color: var(--fill-color);\n",
              "    }\n",
              "    90% {\n",
              "      border-color: transparent;\n",
              "      border-bottom-color: var(--fill-color);\n",
              "    }\n",
              "  }\n",
              "</style>\n",
              "\n",
              "  <script>\n",
              "    async function quickchart(key) {\n",
              "      const quickchartButtonEl =\n",
              "        document.querySelector('#' + key + ' button');\n",
              "      quickchartButtonEl.disabled = true;  // To prevent multiple clicks.\n",
              "      quickchartButtonEl.classList.add('colab-df-spinner');\n",
              "      try {\n",
              "        const charts = await google.colab.kernel.invokeFunction(\n",
              "            'suggestCharts', [key], {});\n",
              "      } catch (error) {\n",
              "        console.error('Error during call to suggestCharts:', error);\n",
              "      }\n",
              "      quickchartButtonEl.classList.remove('colab-df-spinner');\n",
              "      quickchartButtonEl.classList.add('colab-df-quickchart-complete');\n",
              "    }\n",
              "    (() => {\n",
              "      let quickchartButtonEl =\n",
              "        document.querySelector('#df-90230704-181d-4be4-b161-071cf359db0b button');\n",
              "      quickchartButtonEl.style.display =\n",
              "        google.colab.kernel.accessAllowed ? 'block' : 'none';\n",
              "    })();\n",
              "  </script>\n",
              "</div>\n",
              "    </div>\n",
              "  </div>\n"
            ]
          },
          "metadata": {},
          "execution_count": 11
        }
      ]
    },
    {
      "cell_type": "code",
      "source": [
        "df.info()"
      ],
      "metadata": {
        "colab": {
          "base_uri": "https://localhost:8080/"
        },
        "id": "DisWIVexRJ2v",
        "outputId": "f8372f32-682c-4edc-8742-528fcb9e909a"
      },
      "execution_count": 12,
      "outputs": [
        {
          "output_type": "stream",
          "name": "stdout",
          "text": [
            "<class 'pandas.core.frame.DataFrame'>\n",
            "RangeIndex: 1728 entries, 0 to 1727\n",
            "Data columns (total 7 columns):\n",
            " #   Column    Non-Null Count  Dtype \n",
            "---  ------    --------------  ----- \n",
            " 0   buying    1728 non-null   object\n",
            " 1   maint     1728 non-null   object\n",
            " 2   doors     1728 non-null   object\n",
            " 3   persons   1728 non-null   object\n",
            " 4   lug_boot  1728 non-null   object\n",
            " 5   safety    1728 non-null   object\n",
            " 6   class     1728 non-null   object\n",
            "dtypes: object(7)\n",
            "memory usage: 94.6+ KB\n"
          ]
        }
      ]
    },
    {
      "cell_type": "code",
      "source": [
        "for col in col_names:\n",
        "  print(df[col].value_counts())"
      ],
      "metadata": {
        "colab": {
          "base_uri": "https://localhost:8080/"
        },
        "id": "bndi21KsROON",
        "outputId": "f9950d83-b5e5-406f-bb4a-20c6cf17bd72"
      },
      "execution_count": 13,
      "outputs": [
        {
          "output_type": "stream",
          "name": "stdout",
          "text": [
            "vhigh    432\n",
            "high     432\n",
            "med      432\n",
            "low      432\n",
            "Name: buying, dtype: int64\n",
            "vhigh    432\n",
            "high     432\n",
            "med      432\n",
            "low      432\n",
            "Name: maint, dtype: int64\n",
            "2        432\n",
            "3        432\n",
            "4        432\n",
            "5more    432\n",
            "Name: doors, dtype: int64\n",
            "2       576\n",
            "4       576\n",
            "more    576\n",
            "Name: persons, dtype: int64\n",
            "small    576\n",
            "med      576\n",
            "big      576\n",
            "Name: lug_boot, dtype: int64\n",
            "low     576\n",
            "med     576\n",
            "high    576\n",
            "Name: safety, dtype: int64\n",
            "unacc    1210\n",
            "acc       384\n",
            "good       69\n",
            "vgood      65\n",
            "Name: class, dtype: int64\n"
          ]
        }
      ]
    },
    {
      "cell_type": "code",
      "source": [
        "df['class'].value_counts()"
      ],
      "metadata": {
        "colab": {
          "base_uri": "https://localhost:8080/"
        },
        "id": "8J8ovb55Uixz",
        "outputId": "00d8c9e0-5408-4145-85e9-579c4aaa708d"
      },
      "execution_count": 14,
      "outputs": [
        {
          "output_type": "execute_result",
          "data": {
            "text/plain": [
              "unacc    1210\n",
              "acc       384\n",
              "good       69\n",
              "vgood      65\n",
              "Name: class, dtype: int64"
            ]
          },
          "metadata": {},
          "execution_count": 14
        }
      ]
    },
    {
      "cell_type": "code",
      "source": [
        "df.isnull().sum()"
      ],
      "metadata": {
        "colab": {
          "base_uri": "https://localhost:8080/"
        },
        "id": "66YZCagDUmT9",
        "outputId": "e7e3d114-08df-4a74-f68f-b95a1d95eaff"
      },
      "execution_count": 15,
      "outputs": [
        {
          "output_type": "execute_result",
          "data": {
            "text/plain": [
              "buying      0\n",
              "maint       0\n",
              "doors       0\n",
              "persons     0\n",
              "lug_boot    0\n",
              "safety      0\n",
              "class       0\n",
              "dtype: int64"
            ]
          },
          "metadata": {},
          "execution_count": 15
        }
      ]
    },
    {
      "cell_type": "code",
      "source": [
        "X = df.drop(['class'], axis = 1)\n",
        "y = df['class']"
      ],
      "metadata": {
        "id": "_OKv1mWrUpLs"
      },
      "execution_count": 16,
      "outputs": []
    },
    {
      "cell_type": "code",
      "source": [
        "X_train, X_test, y_train, y_test = train_test_split(X, y, test_size = 0.33, random_state = 42)\n",
        "X_train.shape, y_train.shape"
      ],
      "metadata": {
        "colab": {
          "base_uri": "https://localhost:8080/"
        },
        "id": "0fuwbd2LUxI_",
        "outputId": "772009b3-1e48-4576-c21d-983aec34a53d"
      },
      "execution_count": 17,
      "outputs": [
        {
          "output_type": "execute_result",
          "data": {
            "text/plain": [
              "((1157, 6), (1157,))"
            ]
          },
          "metadata": {},
          "execution_count": 17
        }
      ]
    },
    {
      "cell_type": "code",
      "source": [
        "class_value = df['class'].value_counts()\n",
        "labels = ['acc', 'good','unacc', 'vgood']\n",
        "sizes = [class_value[0], class_value[1], class_value[2], class_value[3]]\n",
        "# print(sizes) # adds up to 1433, which is the total number of participants\n",
        "fig1, ax1 = plt.subplots()\n",
        "ax1.pie(sizes, labels=labels, autopct='%1.1f%%', shadow=False, wedgeprops = {\"linewidth\": 1, \"edgecolor\": \"black\"})\n",
        "ax1.axis('equal')\n",
        "plt.title(\"Composition of Class Values\")\n",
        "plt.show()"
      ],
      "metadata": {
        "colab": {
          "base_uri": "https://localhost:8080/",
          "height": 428
        },
        "id": "QT2z0OxBvj-i",
        "outputId": "ce2d96a5-b158-4a65-8d5e-0996f984f086"
      },
      "execution_count": 44,
      "outputs": [
        {
          "output_type": "display_data",
          "data": {
            "text/plain": [
              "<Figure size 640x480 with 1 Axes>"
            ],
            "image/png": "[encoded data removed]"
          },
          "metadata": {}
        }
      ]
    },
    {
      "cell_type": "markdown",
      "source": [
        "### Feature Engineering\n",
        "Feature Engineering is the process of transforming raw data into useful features that help us to understand our model better and increase its predictive power. I will carry out feature engineering on different types of variables."
      ],
      "metadata": {
        "id": "RUcCoOZgVPgv"
      }
    },
    {
      "cell_type": "code",
      "source": [
        "X_train.dtypes"
      ],
      "metadata": {
        "colab": {
          "base_uri": "https://localhost:8080/"
        },
        "id": "OS0K3mrlVOxY",
        "outputId": "20ddef2b-0243-4422-f429-d9333141f195"
      },
      "execution_count": 18,
      "outputs": [
        {
          "output_type": "execute_result",
          "data": {
            "text/plain": [
              "buying      object\n",
              "maint       object\n",
              "doors       object\n",
              "persons     object\n",
              "lug_boot    object\n",
              "safety      object\n",
              "dtype: object"
            ]
          },
          "metadata": {},
          "execution_count": 18
        }
      ]
    },
    {
      "cell_type": "code",
      "source": [
        "X_train.head()"
      ],
      "metadata": {
        "colab": {
          "base_uri": "https://localhost:8080/",
          "height": 206
        },
        "id": "XWehA065VYsl",
        "outputId": "0d987e14-484d-45fe-c653-b08c63600d0d"
      },
      "execution_count": 19,
      "outputs": [
        {
          "output_type": "execute_result",
          "data": {
            "text/plain": [
              "     buying  maint  doors persons lug_boot safety\n",
              "48    vhigh  vhigh      3    more      med    low\n",
              "468    high  vhigh      3       4    small    low\n",
              "155   vhigh   high      3    more    small   high\n",
              "1721    low    low  5more    more    small   high\n",
              "1208    med    low      2    more    small   high"
            ],
            "text/html": [
              "\n",
              "  <div id=\"df-afd50777-5edc-47c9-8293-e38d80bb3e09\" class=\"colab-df-container\">\n",
              "    <div>\n",
              "<style scoped>\n",
              "    .dataframe tbody tr th:only-of-type {\n",
              "        vertical-align: middle;\n",
              "    }\n",
              "\n",
              "    .dataframe tbody tr th {\n",
              "        vertical-align: top;\n",
              "    }\n",
              "\n",
              "    .dataframe thead th {\n",
              "        text-align: right;\n",
              "    }\n",
              "</style>\n",
              "<table border=\"1\" class=\"dataframe\">\n",
              "  <thead>\n",
              "    <tr style=\"text-align: right;\">\n",
              "      <th></th>\n",
              "      <th>buying</th>\n",
              "      <th>maint</th>\n",
              "      <th>doors</th>\n",
              "      <th>persons</th>\n",
              "      <th>lug_boot</th>\n",
              "      <th>safety</th>\n",
              "    </tr>\n",
              "  </thead>\n",
              "  <tbody>\n",
              "    <tr>\n",
              "      <th>48</th>\n",
              "      <td>vhigh</td>\n",
              "      <td>vhigh</td>\n",
              "      <td>3</td>\n",
              "      <td>more</td>\n",
              "      <td>med</td>\n",
              "      <td>low</td>\n",
              "    </tr>\n",
              "    <tr>\n",
              "      <th>468</th>\n",
              "      <td>high</td>\n",
              "      <td>vhigh</td>\n",
              "      <td>3</td>\n",
              "      <td>4</td>\n",
              "      <td>small</td>\n",
              "      <td>low</td>\n",
              "    </tr>\n",
              "    <tr>\n",
              "      <th>155</th>\n",
              "      <td>vhigh</td>\n",
              "      <td>high</td>\n",
              "      <td>3</td>\n",
              "      <td>more</td>\n",
              "      <td>small</td>\n",
              "      <td>high</td>\n",
              "    </tr>\n",
              "    <tr>\n",
              "      <th>1721</th>\n",
              "      <td>low</td>\n",
              "      <td>low</td>\n",
              "      <td>5more</td>\n",
              "      <td>more</td>\n",
              "      <td>small</td>\n",
              "      <td>high</td>\n",
              "    </tr>\n",
              "    <tr>\n",
              "      <th>1208</th>\n",
              "      <td>med</td>\n",
              "      <td>low</td>\n",
              "      <td>2</td>\n",
              "      <td>more</td>\n",
              "      <td>small</td>\n",
              "      <td>high</td>\n",
              "    </tr>\n",
              "  </tbody>\n",
              "</table>\n",
              "</div>\n",
              "    <div class=\"colab-df-buttons\">\n",
              "\n",
              "  <div class=\"colab-df-container\">\n",
              "    <button class=\"colab-df-convert\" onclick=\"convertToInteractive('df-afd50777-5edc-47c9-8293-e38d80bb3e09')\"\n",
              "            title=\"Convert this dataframe to an interactive table.\"\n",
              "            style=\"display:none;\">\n",
              "\n",
              "  <svg xmlns=\"http://www.w3.org/2000/svg\" height=\"24px\" viewBox=\"0 -960 960 960\">\n",
              "    <path d=\"M120-120v-720h720v720H120Zm60-500h600v-160H180v160Zm220 220h160v-160H400v160Zm0 220h160v-160H400v160ZM180-400h160v-160H180v160Zm440 0h160v-160H620v160ZM180-180h160v-160H180v160Zm440 0h160v-160H620v160Z\"/>\n",
              "  </svg>\n",
              "    </button>\n",
              "\n",
              "  <style>\n",
              "    .colab-df-container {\n",
              "      display:flex;\n",
              "      gap: 12px;\n",
              "    }\n",
              "\n",
              "    .colab-df-convert {\n",
              "      background-color: #E8F0FE;\n",
              "      border: none;\n",
              "      border-radius: 50%;\n",
              "      cursor: pointer;\n",
              "      display: none;\n",
              "      fill: #1967D2;\n",
              "      height: 32px;\n",
              "      padding: 0 0 0 0;\n",
              "      width: 32px;\n",
              "    }\n",
              "\n",
              "    .colab-df-convert:hover {\n",
              "      background-color: #E2EBFA;\n",
              "      box-shadow: 0px 1px 2px rgba(60, 64, 67, 0.3), 0px 1px 3px 1px rgba(60, 64, 67, 0.15);\n",
              "      fill: #174EA6;\n",
              "    }\n",
              "\n",
              "    .colab-df-buttons div {\n",
              "      margin-bottom: 4px;\n",
              "    }\n",
              "\n",
              "    [theme=dark] .colab-df-convert {\n",
              "      background-color: #3B4455;\n",
              "      fill: #D2E3FC;\n",
              "    }\n",
              "\n",
              "    [theme=dark] .colab-df-convert:hover {\n",
              "      background-color: #434B5C;\n",
              "      box-shadow: 0px 1px 3px 1px rgba(0, 0, 0, 0.15);\n",
              "      filter: drop-shadow(0px 1px 2px rgba(0, 0, 0, 0.3));\n",
              "      fill: #FFFFFF;\n",
              "    }\n",
              "  </style>\n",
              "\n",
              "    <script>\n",
              "      const buttonEl =\n",
              "        document.querySelector('#df-afd50777-5edc-47c9-8293-e38d80bb3e09 button.colab-df-convert');\n",
              "      buttonEl.style.display =\n",
              "        google.colab.kernel.accessAllowed ? 'block' : 'none';\n",
              "\n",
              "      async function convertToInteractive(key) {\n",
              "        const element = document.querySelector('#df-afd50777-5edc-47c9-8293-e38d80bb3e09');\n",
              "        const dataTable =\n",
              "          await google.colab.kernel.invokeFunction('convertToInteractive',\n",
              "                                                    [key], {});\n",
              "        if (!dataTable) return;\n",
              "\n",
              "        const docLinkHtml = 'Like what you see? Visit the ' +\n",
              "          '<a target=\"_blank\" href=https://colab.research.google.com/notebooks/data_table.ipynb>data table notebook</a>'\n",
              "          + ' to learn more about interactive tables.';\n",
              "        element.innerHTML = '';\n",
              "        dataTable['output_type'] = 'display_data';\n",
              "        await google.colab.output.renderOutput(dataTable, element);\n",
              "        const docLink = document.createElement('div');\n",
              "        docLink.innerHTML = docLinkHtml;\n",
              "        element.appendChild(docLink);\n",
              "      }\n",
              "    </script>\n",
              "  </div>\n",
              "\n",
              "\n",
              "<div id=\"df-0b17fb9a-0e5e-4f38-a88d-6498f7b48398\">\n",
              "  <button class=\"colab-df-quickchart\" onclick=\"quickchart('df-0b17fb9a-0e5e-4f38-a88d-6498f7b48398')\"\n",
              "            title=\"Suggest charts.\"\n",
              "            style=\"display:none;\">\n",
              "\n",
              "<svg xmlns=\"http://www.w3.org/2000/svg\" height=\"24px\"viewBox=\"0 0 24 24\"\n",
              "     width=\"24px\">\n",
              "    <g>\n",
              "        <path d=\"M19 3H5c-1.1 0-2 .9-2 2v14c0 1.1.9 2 2 2h14c1.1 0 2-.9 2-2V5c0-1.1-.9-2-2-2zM9 17H7v-7h2v7zm4 0h-2V7h2v10zm4 0h-2v-4h2v4z\"/>\n",
              "    </g>\n",
              "</svg>\n",
              "  </button>\n",
              "\n",
              "<style>\n",
              "  .colab-df-quickchart {\n",
              "      --bg-color: #E8F0FE;\n",
              "      --fill-color: #1967D2;\n",
              "      --hover-bg-color: #E2EBFA;\n",
              "      --hover-fill-color: #174EA6;\n",
              "      --disabled-fill-color: #AAA;\n",
              "      --disabled-bg-color: #DDD;\n",
              "  }\n",
              "\n",
              "  [theme=dark] .colab-df-quickchart {\n",
              "      --bg-color: #3B4455;\n",
              "      --fill-color: #D2E3FC;\n",
              "      --hover-bg-color: #434B5C;\n",
              "      --hover-fill-color: #FFFFFF;\n",
              "      --disabled-bg-color: #3B4455;\n",
              "      --disabled-fill-color: #666;\n",
              "  }\n",
              "\n",
              "  .colab-df-quickchart {\n",
              "    background-color: var(--bg-color);\n",
              "    border: none;\n",
              "    border-radius: 50%;\n",
              "    cursor: pointer;\n",
              "    display: none;\n",
              "    fill: var(--fill-color);\n",
              "    height: 32px;\n",
              "    padding: 0;\n",
              "    width: 32px;\n",
              "  }\n",
              "\n",
              "  .colab-df-quickchart:hover {\n",
              "    background-color: var(--hover-bg-color);\n",
              "    box-shadow: 0 1px 2px rgba(60, 64, 67, 0.3), 0 1px 3px 1px rgba(60, 64, 67, 0.15);\n",
              "    fill: var(--button-hover-fill-color);\n",
              "  }\n",
              "\n",
              "  .colab-df-quickchart-complete:disabled,\n",
              "  .colab-df-quickchart-complete:disabled:hover {\n",
              "    background-color: var(--disabled-bg-color);\n",
              "    fill: var(--disabled-fill-color);\n",
              "    box-shadow: none;\n",
              "  }\n",
              "\n",
              "  .colab-df-spinner {\n",
              "    border: 2px solid var(--fill-color);\n",
              "    border-color: transparent;\n",
              "    border-bottom-color: var(--fill-color);\n",
              "    animation:\n",
              "      spin 1s steps(1) infinite;\n",
              "  }\n",
              "\n",
              "  @keyframes spin {\n",
              "    0% {\n",
              "      border-color: transparent;\n",
              "      border-bottom-color: var(--fill-color);\n",
              "      border-left-color: var(--fill-color);\n",
              "    }\n",
              "    20% {\n",
              "      border-color: transparent;\n",
              "      border-left-color: var(--fill-color);\n",
              "      border-top-color: var(--fill-color);\n",
              "    }\n",
              "    30% {\n",
              "      border-color: transparent;\n",
              "      border-left-color: var(--fill-color);\n",
              "      border-top-color: var(--fill-color);\n",
              "      border-right-color: var(--fill-color);\n",
              "    }\n",
              "    40% {\n",
              "      border-color: transparent;\n",
              "      border-right-color: var(--fill-color);\n",
              "      border-top-color: var(--fill-color);\n",
              "    }\n",
              "    60% {\n",
              "      border-color: transparent;\n",
              "      border-right-color: var(--fill-color);\n",
              "    }\n",
              "    80% {\n",
              "      border-color: transparent;\n",
              "      border-right-color: var(--fill-color);\n",
              "      border-bottom-color: var(--fill-color);\n",
              "    }\n",
              "    90% {\n",
              "      border-color: transparent;\n",
              "      border-bottom-color: var(--fill-color);\n",
              "    }\n",
              "  }\n",
              "</style>\n",
              "\n",
              "  <script>\n",
              "    async function quickchart(key) {\n",
              "      const quickchartButtonEl =\n",
              "        document.querySelector('#' + key + ' button');\n",
              "      quickchartButtonEl.disabled = true;  // To prevent multiple clicks.\n",
              "      quickchartButtonEl.classList.add('colab-df-spinner');\n",
              "      try {\n",
              "        const charts = await google.colab.kernel.invokeFunction(\n",
              "            'suggestCharts', [key], {});\n",
              "      } catch (error) {\n",
              "        console.error('Error during call to suggestCharts:', error);\n",
              "      }\n",
              "      quickchartButtonEl.classList.remove('colab-df-spinner');\n",
              "      quickchartButtonEl.classList.add('colab-df-quickchart-complete');\n",
              "    }\n",
              "    (() => {\n",
              "      let quickchartButtonEl =\n",
              "        document.querySelector('#df-0b17fb9a-0e5e-4f38-a88d-6498f7b48398 button');\n",
              "      quickchartButtonEl.style.display =\n",
              "        google.colab.kernel.accessAllowed ? 'block' : 'none';\n",
              "    })();\n",
              "  </script>\n",
              "</div>\n",
              "    </div>\n",
              "  </div>\n"
            ]
          },
          "metadata": {},
          "execution_count": 19
        }
      ]
    },
    {
      "cell_type": "markdown",
      "source": [
        "### Encode Categorical Variables"
      ],
      "metadata": {
        "id": "e6cdFs9LVyNu"
      }
    },
    {
      "cell_type": "code",
      "source": [
        "encoder = ce.OrdinalEncoder(col_names)\n",
        "\n",
        "X_train = encoder.fit_transform(X_train)\n",
        "X_test = encoder.transform(X_test)"
      ],
      "metadata": {
        "id": "p0LrFqgOV03H"
      },
      "execution_count": 20,
      "outputs": []
    },
    {
      "cell_type": "code",
      "source": [
        "X_train.head()"
      ],
      "metadata": {
        "colab": {
          "base_uri": "https://localhost:8080/",
          "height": 206
        },
        "id": "ziAwwCvEWKz7",
        "outputId": "bbe88a97-d0f7-4ed5-fdfb-4d3526191390"
      },
      "execution_count": 21,
      "outputs": [
        {
          "output_type": "execute_result",
          "data": {
            "text/plain": [
              "      buying  maint  doors  persons  lug_boot  safety\n",
              "48         1      1      1        1         1       1\n",
              "468        2      1      1        2         2       1\n",
              "155        1      2      1        1         2       2\n",
              "1721       3      3      2        1         2       2\n",
              "1208       4      3      3        1         2       2"
            ],
            "text/html": [
              "\n",
              "  <div id=\"df-795c1f19-a29d-4552-9cfe-9305763622fb\" class=\"colab-df-container\">\n",
              "    <div>\n",
              "<style scoped>\n",
              "    .dataframe tbody tr th:only-of-type {\n",
              "        vertical-align: middle;\n",
              "    }\n",
              "\n",
              "    .dataframe tbody tr th {\n",
              "        vertical-align: top;\n",
              "    }\n",
              "\n",
              "    .dataframe thead th {\n",
              "        text-align: right;\n",
              "    }\n",
              "</style>\n",
              "<table border=\"1\" class=\"dataframe\">\n",
              "  <thead>\n",
              "    <tr style=\"text-align: right;\">\n",
              "      <th></th>\n",
              "      <th>buying</th>\n",
              "      <th>maint</th>\n",
              "      <th>doors</th>\n",
              "      <th>persons</th>\n",
              "      <th>lug_boot</th>\n",
              "      <th>safety</th>\n",
              "    </tr>\n",
              "  </thead>\n",
              "  <tbody>\n",
              "    <tr>\n",
              "      <th>48</th>\n",
              "      <td>1</td>\n",
              "      <td>1</td>\n",
              "      <td>1</td>\n",
              "      <td>1</td>\n",
              "      <td>1</td>\n",
              "      <td>1</td>\n",
              "    </tr>\n",
              "    <tr>\n",
              "      <th>468</th>\n",
              "      <td>2</td>\n",
              "      <td>1</td>\n",
              "      <td>1</td>\n",
              "      <td>2</td>\n",
              "      <td>2</td>\n",
              "      <td>1</td>\n",
              "    </tr>\n",
              "    <tr>\n",
              "      <th>155</th>\n",
              "      <td>1</td>\n",
              "      <td>2</td>\n",
              "      <td>1</td>\n",
              "      <td>1</td>\n",
              "      <td>2</td>\n",
              "      <td>2</td>\n",
              "    </tr>\n",
              "    <tr>\n",
              "      <th>1721</th>\n",
              "      <td>3</td>\n",
              "      <td>3</td>\n",
              "      <td>2</td>\n",
              "      <td>1</td>\n",
              "      <td>2</td>\n",
              "      <td>2</td>\n",
              "    </tr>\n",
              "    <tr>\n",
              "      <th>1208</th>\n",
              "      <td>4</td>\n",
              "      <td>3</td>\n",
              "      <td>3</td>\n",
              "      <td>1</td>\n",
              "      <td>2</td>\n",
              "      <td>2</td>\n",
              "    </tr>\n",
              "  </tbody>\n",
              "</table>\n",
              "</div>\n",
              "    <div class=\"colab-df-buttons\">\n",
              "\n",
              "  <div class=\"colab-df-container\">\n",
              "    <button class=\"colab-df-convert\" onclick=\"convertToInteractive('df-795c1f19-a29d-4552-9cfe-9305763622fb')\"\n",
              "            title=\"Convert this dataframe to an interactive table.\"\n",
              "            style=\"display:none;\">\n",
              "\n",
              "  <svg xmlns=\"http://www.w3.org/2000/svg\" height=\"24px\" viewBox=\"0 -960 960 960\">\n",
              "    <path d=\"M120-120v-720h720v720H120Zm60-500h600v-160H180v160Zm220 220h160v-160H400v160Zm0 220h160v-160H400v160ZM180-400h160v-160H180v160Zm440 0h160v-160H620v160ZM180-180h160v-160H180v160Zm440 0h160v-160H620v160Z\"/>\n",
              "  </svg>\n",
              "    </button>\n",
              "\n",
              "  <style>\n",
              "    .colab-df-container {\n",
              "      display:flex;\n",
              "      gap: 12px;\n",
              "    }\n",
              "\n",
              "    .colab-df-convert {\n",
              "      background-color: #E8F0FE;\n",
              "      border: none;\n",
              "      border-radius: 50%;\n",
              "      cursor: pointer;\n",
              "      display: none;\n",
              "      fill: #1967D2;\n",
              "      height: 32px;\n",
              "      padding: 0 0 0 0;\n",
              "      width: 32px;\n",
              "    }\n",
              "\n",
              "    .colab-df-convert:hover {\n",
              "      background-color: #E2EBFA;\n",
              "      box-shadow: 0px 1px 2px rgba(60, 64, 67, 0.3), 0px 1px 3px 1px rgba(60, 64, 67, 0.15);\n",
              "      fill: #174EA6;\n",
              "    }\n",
              "\n",
              "    .colab-df-buttons div {\n",
              "      margin-bottom: 4px;\n",
              "    }\n",
              "\n",
              "    [theme=dark] .colab-df-convert {\n",
              "      background-color: #3B4455;\n",
              "      fill: #D2E3FC;\n",
              "    }\n",
              "\n",
              "    [theme=dark] .colab-df-convert:hover {\n",
              "      background-color: #434B5C;\n",
              "      box-shadow: 0px 1px 3px 1px rgba(0, 0, 0, 0.15);\n",
              "      filter: drop-shadow(0px 1px 2px rgba(0, 0, 0, 0.3));\n",
              "      fill: #FFFFFF;\n",
              "    }\n",
              "  </style>\n",
              "\n",
              "    <script>\n",
              "      const buttonEl =\n",
              "        document.querySelector('#df-795c1f19-a29d-4552-9cfe-9305763622fb button.colab-df-convert');\n",
              "      buttonEl.style.display =\n",
              "        google.colab.kernel.accessAllowed ? 'block' : 'none';\n",
              "\n",
              "      async function convertToInteractive(key) {\n",
              "        const element = document.querySelector('#df-795c1f19-a29d-4552-9cfe-9305763622fb');\n",
              "        const dataTable =\n",
              "          await google.colab.kernel.invokeFunction('convertToInteractive',\n",
              "                                                    [key], {});\n",
              "        if (!dataTable) return;\n",
              "\n",
              "        const docLinkHtml = 'Like what you see? Visit the ' +\n",
              "          '<a target=\"_blank\" href=https://colab.research.google.com/notebooks/data_table.ipynb>data table notebook</a>'\n",
              "          + ' to learn more about interactive tables.';\n",
              "        element.innerHTML = '';\n",
              "        dataTable['output_type'] = 'display_data';\n",
              "        await google.colab.output.renderOutput(dataTable, element);\n",
              "        const docLink = document.createElement('div');\n",
              "        docLink.innerHTML = docLinkHtml;\n",
              "        element.appendChild(docLink);\n",
              "      }\n",
              "    </script>\n",
              "  </div>\n",
              "\n",
              "\n",
              "<div id=\"df-c66cdb08-2af4-4a55-9e99-5710ba46d998\">\n",
              "  <button class=\"colab-df-quickchart\" onclick=\"quickchart('df-c66cdb08-2af4-4a55-9e99-5710ba46d998')\"\n",
              "            title=\"Suggest charts.\"\n",
              "            style=\"display:none;\">\n",
              "\n",
              "<svg xmlns=\"http://www.w3.org/2000/svg\" height=\"24px\"viewBox=\"0 0 24 24\"\n",
              "     width=\"24px\">\n",
              "    <g>\n",
              "        <path d=\"M19 3H5c-1.1 0-2 .9-2 2v14c0 1.1.9 2 2 2h14c1.1 0 2-.9 2-2V5c0-1.1-.9-2-2-2zM9 17H7v-7h2v7zm4 0h-2V7h2v10zm4 0h-2v-4h2v4z\"/>\n",
              "    </g>\n",
              "</svg>\n",
              "  </button>\n",
              "\n",
              "<style>\n",
              "  .colab-df-quickchart {\n",
              "      --bg-color: #E8F0FE;\n",
              "      --fill-color: #1967D2;\n",
              "      --hover-bg-color: #E2EBFA;\n",
              "      --hover-fill-color: #174EA6;\n",
              "      --disabled-fill-color: #AAA;\n",
              "      --disabled-bg-color: #DDD;\n",
              "  }\n",
              "\n",
              "  [theme=dark] .colab-df-quickchart {\n",
              "      --bg-color: #3B4455;\n",
              "      --fill-color: #D2E3FC;\n",
              "      --hover-bg-color: #434B5C;\n",
              "      --hover-fill-color: #FFFFFF;\n",
              "      --disabled-bg-color: #3B4455;\n",
              "      --disabled-fill-color: #666;\n",
              "  }\n",
              "\n",
              "  .colab-df-quickchart {\n",
              "    background-color: var(--bg-color);\n",
              "    border: none;\n",
              "    border-radius: 50%;\n",
              "    cursor: pointer;\n",
              "    display: none;\n",
              "    fill: var(--fill-color);\n",
              "    height: 32px;\n",
              "    padding: 0;\n",
              "    width: 32px;\n",
              "  }\n",
              "\n",
              "  .colab-df-quickchart:hover {\n",
              "    background-color: var(--hover-bg-color);\n",
              "    box-shadow: 0 1px 2px rgba(60, 64, 67, 0.3), 0 1px 3px 1px rgba(60, 64, 67, 0.15);\n",
              "    fill: var(--button-hover-fill-color);\n",
              "  }\n",
              "\n",
              "  .colab-df-quickchart-complete:disabled,\n",
              "  .colab-df-quickchart-complete:disabled:hover {\n",
              "    background-color: var(--disabled-bg-color);\n",
              "    fill: var(--disabled-fill-color);\n",
              "    box-shadow: none;\n",
              "  }\n",
              "\n",
              "  .colab-df-spinner {\n",
              "    border: 2px solid var(--fill-color);\n",
              "    border-color: transparent;\n",
              "    border-bottom-color: var(--fill-color);\n",
              "    animation:\n",
              "      spin 1s steps(1) infinite;\n",
              "  }\n",
              "\n",
              "  @keyframes spin {\n",
              "    0% {\n",
              "      border-color: transparent;\n",
              "      border-bottom-color: var(--fill-color);\n",
              "      border-left-color: var(--fill-color);\n",
              "    }\n",
              "    20% {\n",
              "      border-color: transparent;\n",
              "      border-left-color: var(--fill-color);\n",
              "      border-top-color: var(--fill-color);\n",
              "    }\n",
              "    30% {\n",
              "      border-color: transparent;\n",
              "      border-left-color: var(--fill-color);\n",
              "      border-top-color: var(--fill-color);\n",
              "      border-right-color: var(--fill-color);\n",
              "    }\n",
              "    40% {\n",
              "      border-color: transparent;\n",
              "      border-right-color: var(--fill-color);\n",
              "      border-top-color: var(--fill-color);\n",
              "    }\n",
              "    60% {\n",
              "      border-color: transparent;\n",
              "      border-right-color: var(--fill-color);\n",
              "    }\n",
              "    80% {\n",
              "      border-color: transparent;\n",
              "      border-right-color: var(--fill-color);\n",
              "      border-bottom-color: var(--fill-color);\n",
              "    }\n",
              "    90% {\n",
              "      border-color: transparent;\n",
              "      border-bottom-color: var(--fill-color);\n",
              "    }\n",
              "  }\n",
              "</style>\n",
              "\n",
              "  <script>\n",
              "    async function quickchart(key) {\n",
              "      const quickchartButtonEl =\n",
              "        document.querySelector('#' + key + ' button');\n",
              "      quickchartButtonEl.disabled = true;  // To prevent multiple clicks.\n",
              "      quickchartButtonEl.classList.add('colab-df-spinner');\n",
              "      try {\n",
              "        const charts = await google.colab.kernel.invokeFunction(\n",
              "            'suggestCharts', [key], {});\n",
              "      } catch (error) {\n",
              "        console.error('Error during call to suggestCharts:', error);\n",
              "      }\n",
              "      quickchartButtonEl.classList.remove('colab-df-spinner');\n",
              "      quickchartButtonEl.classList.add('colab-df-quickchart-complete');\n",
              "    }\n",
              "    (() => {\n",
              "      let quickchartButtonEl =\n",
              "        document.querySelector('#df-c66cdb08-2af4-4a55-9e99-5710ba46d998 button');\n",
              "      quickchartButtonEl.style.display =\n",
              "        google.colab.kernel.accessAllowed ? 'block' : 'none';\n",
              "    })();\n",
              "  </script>\n",
              "</div>\n",
              "    </div>\n",
              "  </div>\n"
            ]
          },
          "metadata": {},
          "execution_count": 21
        }
      ]
    },
    {
      "cell_type": "code",
      "source": [
        "X_test.head()"
      ],
      "metadata": {
        "colab": {
          "base_uri": "https://localhost:8080/",
          "height": 206
        },
        "id": "8puwNVBcWNxy",
        "outputId": "c4cb98d7-700b-4715-849e-13188df91e99"
      },
      "execution_count": 22,
      "outputs": [
        {
          "output_type": "execute_result",
          "data": {
            "text/plain": [
              "      buying  maint  doors  persons  lug_boot  safety\n",
              "599        2      2      4        3         1       2\n",
              "1201       4      3      3        2         1       3\n",
              "628        2      2      2        3         3       3\n",
              "1498       3      2      2        2         1       3\n",
              "1263       4      3      4        1         1       1"
            ],
            "text/html": [
              "\n",
              "  <div id=\"df-85897331-9ded-4a50-b8e7-6fbedf19424c\" class=\"colab-df-container\">\n",
              "    <div>\n",
              "<style scoped>\n",
              "    .dataframe tbody tr th:only-of-type {\n",
              "        vertical-align: middle;\n",
              "    }\n",
              "\n",
              "    .dataframe tbody tr th {\n",
              "        vertical-align: top;\n",
              "    }\n",
              "\n",
              "    .dataframe thead th {\n",
              "        text-align: right;\n",
              "    }\n",
              "</style>\n",
              "<table border=\"1\" class=\"dataframe\">\n",
              "  <thead>\n",
              "    <tr style=\"text-align: right;\">\n",
              "      <th></th>\n",
              "      <th>buying</th>\n",
              "      <th>maint</th>\n",
              "      <th>doors</th>\n",
              "      <th>persons</th>\n",
              "      <th>lug_boot</th>\n",
              "      <th>safety</th>\n",
              "    </tr>\n",
              "  </thead>\n",
              "  <tbody>\n",
              "    <tr>\n",
              "      <th>599</th>\n",
              "      <td>2</td>\n",
              "      <td>2</td>\n",
              "      <td>4</td>\n",
              "      <td>3</td>\n",
              "      <td>1</td>\n",
              "      <td>2</td>\n",
              "    </tr>\n",
              "    <tr>\n",
              "      <th>1201</th>\n",
              "      <td>4</td>\n",
              "      <td>3</td>\n",
              "      <td>3</td>\n",
              "      <td>2</td>\n",
              "      <td>1</td>\n",
              "      <td>3</td>\n",
              "    </tr>\n",
              "    <tr>\n",
              "      <th>628</th>\n",
              "      <td>2</td>\n",
              "      <td>2</td>\n",
              "      <td>2</td>\n",
              "      <td>3</td>\n",
              "      <td>3</td>\n",
              "      <td>3</td>\n",
              "    </tr>\n",
              "    <tr>\n",
              "      <th>1498</th>\n",
              "      <td>3</td>\n",
              "      <td>2</td>\n",
              "      <td>2</td>\n",
              "      <td>2</td>\n",
              "      <td>1</td>\n",
              "      <td>3</td>\n",
              "    </tr>\n",
              "    <tr>\n",
              "      <th>1263</th>\n",
              "      <td>4</td>\n",
              "      <td>3</td>\n",
              "      <td>4</td>\n",
              "      <td>1</td>\n",
              "      <td>1</td>\n",
              "      <td>1</td>\n",
              "    </tr>\n",
              "  </tbody>\n",
              "</table>\n",
              "</div>\n",
              "    <div class=\"colab-df-buttons\">\n",
              "\n",
              "  <div class=\"colab-df-container\">\n",
              "    <button class=\"colab-df-convert\" onclick=\"convertToInteractive('df-85897331-9ded-4a50-b8e7-6fbedf19424c')\"\n",
              "            title=\"Convert this dataframe to an interactive table.\"\n",
              "            style=\"display:none;\">\n",
              "\n",
              "  <svg xmlns=\"http://www.w3.org/2000/svg\" height=\"24px\" viewBox=\"0 -960 960 960\">\n",
              "    <path d=\"M120-120v-720h720v720H120Zm60-500h600v-160H180v160Zm220 220h160v-160H400v160Zm0 220h160v-160H400v160ZM180-400h160v-160H180v160Zm440 0h160v-160H620v160ZM180-180h160v-160H180v160Zm440 0h160v-160H620v160Z\"/>\n",
              "  </svg>\n",
              "    </button>\n",
              "\n",
              "  <style>\n",
              "    .colab-df-container {\n",
              "      display:flex;\n",
              "      gap: 12px;\n",
              "    }\n",
              "\n",
              "    .colab-df-convert {\n",
              "      background-color: #E8F0FE;\n",
              "      border: none;\n",
              "      border-radius: 50%;\n",
              "      cursor: pointer;\n",
              "      display: none;\n",
              "      fill: #1967D2;\n",
              "      height: 32px;\n",
              "      padding: 0 0 0 0;\n",
              "      width: 32px;\n",
              "    }\n",
              "\n",
              "    .colab-df-convert:hover {\n",
              "      background-color: #E2EBFA;\n",
              "      box-shadow: 0px 1px 2px rgba(60, 64, 67, 0.3), 0px 1px 3px 1px rgba(60, 64, 67, 0.15);\n",
              "      fill: #174EA6;\n",
              "    }\n",
              "\n",
              "    .colab-df-buttons div {\n",
              "      margin-bottom: 4px;\n",
              "    }\n",
              "\n",
              "    [theme=dark] .colab-df-convert {\n",
              "      background-color: #3B4455;\n",
              "      fill: #D2E3FC;\n",
              "    }\n",
              "\n",
              "    [theme=dark] .colab-df-convert:hover {\n",
              "      background-color: #434B5C;\n",
              "      box-shadow: 0px 1px 3px 1px rgba(0, 0, 0, 0.15);\n",
              "      filter: drop-shadow(0px 1px 2px rgba(0, 0, 0, 0.3));\n",
              "      fill: #FFFFFF;\n",
              "    }\n",
              "  </style>\n",
              "\n",
              "    <script>\n",
              "      const buttonEl =\n",
              "        document.querySelector('#df-85897331-9ded-4a50-b8e7-6fbedf19424c button.colab-df-convert');\n",
              "      buttonEl.style.display =\n",
              "        google.colab.kernel.accessAllowed ? 'block' : 'none';\n",
              "\n",
              "      async function convertToInteractive(key) {\n",
              "        const element = document.querySelector('#df-85897331-9ded-4a50-b8e7-6fbedf19424c');\n",
              "        const dataTable =\n",
              "          await google.colab.kernel.invokeFunction('convertToInteractive',\n",
              "                                                    [key], {});\n",
              "        if (!dataTable) return;\n",
              "\n",
              "        const docLinkHtml = 'Like what you see? Visit the ' +\n",
              "          '<a target=\"_blank\" href=https://colab.research.google.com/notebooks/data_table.ipynb>data table notebook</a>'\n",
              "          + ' to learn more about interactive tables.';\n",
              "        element.innerHTML = '';\n",
              "        dataTable['output_type'] = 'display_data';\n",
              "        await google.colab.output.renderOutput(dataTable, element);\n",
              "        const docLink = document.createElement('div');\n",
              "        docLink.innerHTML = docLinkHtml;\n",
              "        element.appendChild(docLink);\n",
              "      }\n",
              "    </script>\n",
              "  </div>\n",
              "\n",
              "\n",
              "<div id=\"df-2a780cf0-f14c-4a5e-983c-6fee7dbeb994\">\n",
              "  <button class=\"colab-df-quickchart\" onclick=\"quickchart('df-2a780cf0-f14c-4a5e-983c-6fee7dbeb994')\"\n",
              "            title=\"Suggest charts.\"\n",
              "            style=\"display:none;\">\n",
              "\n",
              "<svg xmlns=\"http://www.w3.org/2000/svg\" height=\"24px\"viewBox=\"0 0 24 24\"\n",
              "     width=\"24px\">\n",
              "    <g>\n",
              "        <path d=\"M19 3H5c-1.1 0-2 .9-2 2v14c0 1.1.9 2 2 2h14c1.1 0 2-.9 2-2V5c0-1.1-.9-2-2-2zM9 17H7v-7h2v7zm4 0h-2V7h2v10zm4 0h-2v-4h2v4z\"/>\n",
              "    </g>\n",
              "</svg>\n",
              "  </button>\n",
              "\n",
              "<style>\n",
              "  .colab-df-quickchart {\n",
              "      --bg-color: #E8F0FE;\n",
              "      --fill-color: #1967D2;\n",
              "      --hover-bg-color: #E2EBFA;\n",
              "      --hover-fill-color: #174EA6;\n",
              "      --disabled-fill-color: #AAA;\n",
              "      --disabled-bg-color: #DDD;\n",
              "  }\n",
              "\n",
              "  [theme=dark] .colab-df-quickchart {\n",
              "      --bg-color: #3B4455;\n",
              "      --fill-color: #D2E3FC;\n",
              "      --hover-bg-color: #434B5C;\n",
              "      --hover-fill-color: #FFFFFF;\n",
              "      --disabled-bg-color: #3B4455;\n",
              "      --disabled-fill-color: #666;\n",
              "  }\n",
              "\n",
              "  .colab-df-quickchart {\n",
              "    background-color: var(--bg-color);\n",
              "    border: none;\n",
              "    border-radius: 50%;\n",
              "    cursor: pointer;\n",
              "    display: none;\n",
              "    fill: var(--fill-color);\n",
              "    height: 32px;\n",
              "    padding: 0;\n",
              "    width: 32px;\n",
              "  }\n",
              "\n",
              "  .colab-df-quickchart:hover {\n",
              "    background-color: var(--hover-bg-color);\n",
              "    box-shadow: 0 1px 2px rgba(60, 64, 67, 0.3), 0 1px 3px 1px rgba(60, 64, 67, 0.15);\n",
              "    fill: var(--button-hover-fill-color);\n",
              "  }\n",
              "\n",
              "  .colab-df-quickchart-complete:disabled,\n",
              "  .colab-df-quickchart-complete:disabled:hover {\n",
              "    background-color: var(--disabled-bg-color);\n",
              "    fill: var(--disabled-fill-color);\n",
              "    box-shadow: none;\n",
              "  }\n",
              "\n",
              "  .colab-df-spinner {\n",
              "    border: 2px solid var(--fill-color);\n",
              "    border-color: transparent;\n",
              "    border-bottom-color: var(--fill-color);\n",
              "    animation:\n",
              "      spin 1s steps(1) infinite;\n",
              "  }\n",
              "\n",
              "  @keyframes spin {\n",
              "    0% {\n",
              "      border-color: transparent;\n",
              "      border-bottom-color: var(--fill-color);\n",
              "      border-left-color: var(--fill-color);\n",
              "    }\n",
              "    20% {\n",
              "      border-color: transparent;\n",
              "      border-left-color: var(--fill-color);\n",
              "      border-top-color: var(--fill-color);\n",
              "    }\n",
              "    30% {\n",
              "      border-color: transparent;\n",
              "      border-left-color: var(--fill-color);\n",
              "      border-top-color: var(--fill-color);\n",
              "      border-right-color: var(--fill-color);\n",
              "    }\n",
              "    40% {\n",
              "      border-color: transparent;\n",
              "      border-right-color: var(--fill-color);\n",
              "      border-top-color: var(--fill-color);\n",
              "    }\n",
              "    60% {\n",
              "      border-color: transparent;\n",
              "      border-right-color: var(--fill-color);\n",
              "    }\n",
              "    80% {\n",
              "      border-color: transparent;\n",
              "      border-right-color: var(--fill-color);\n",
              "      border-bottom-color: var(--fill-color);\n",
              "    }\n",
              "    90% {\n",
              "      border-color: transparent;\n",
              "      border-bottom-color: var(--fill-color);\n",
              "    }\n",
              "  }\n",
              "</style>\n",
              "\n",
              "  <script>\n",
              "    async function quickchart(key) {\n",
              "      const quickchartButtonEl =\n",
              "        document.querySelector('#' + key + ' button');\n",
              "      quickchartButtonEl.disabled = true;  // To prevent multiple clicks.\n",
              "      quickchartButtonEl.classList.add('colab-df-spinner');\n",
              "      try {\n",
              "        const charts = await google.colab.kernel.invokeFunction(\n",
              "            'suggestCharts', [key], {});\n",
              "      } catch (error) {\n",
              "        console.error('Error during call to suggestCharts:', error);\n",
              "      }\n",
              "      quickchartButtonEl.classList.remove('colab-df-spinner');\n",
              "      quickchartButtonEl.classList.add('colab-df-quickchart-complete');\n",
              "    }\n",
              "    (() => {\n",
              "      let quickchartButtonEl =\n",
              "        document.querySelector('#df-2a780cf0-f14c-4a5e-983c-6fee7dbeb994 button');\n",
              "      quickchartButtonEl.style.display =\n",
              "        google.colab.kernel.accessAllowed ? 'block' : 'none';\n",
              "    })();\n",
              "  </script>\n",
              "</div>\n",
              "    </div>\n",
              "  </div>\n"
            ]
          },
          "metadata": {},
          "execution_count": 22
        }
      ]
    },
    {
      "cell_type": "markdown",
      "source": [
        "### Random Forest Classifier model with default parameters\n",
        "Executes Random forest with ***10*** decision tress by default.\n",
        "Random Forest Classifier model with default parameter of n_estimators = 10.\n",
        "We have used 10 decision-trees to build the model. Now, increase the number of decision-trees and see its effect on accuracy."
      ],
      "metadata": {
        "id": "sYqMMaxbWQ7r"
      }
    },
    {
      "cell_type": "code",
      "source": [
        "rfc = RandomForestClassifier(n_estimators=10 ,random_state=0)\n",
        "\n",
        "rfc.fit(X_train, y_train)\n",
        "\n",
        "y_pred = rfc.predict(X_test)"
      ],
      "metadata": {
        "id": "4k2Y_GwvWXZz"
      },
      "execution_count": 23,
      "outputs": []
    },
    {
      "cell_type": "code",
      "source": [
        "# Check Accuracy Score\n",
        "print(\"Model accuracy score with 10 decision-trees : {0:0.4f}\".format(accuracy_score(y_test, y_pred)))"
      ],
      "metadata": {
        "colab": {
          "base_uri": "https://localhost:8080/"
        },
        "id": "qZw-u8vuWzGa",
        "outputId": "3cdfa4d8-7aca-41d9-b6a0-d2ea532388de"
      },
      "execution_count": 24,
      "outputs": [
        {
          "output_type": "stream",
          "name": "stdout",
          "text": [
            "Model accuracy score with 10 decision-trees : 0.9247\n"
          ]
        }
      ]
    },
    {
      "cell_type": "markdown",
      "source": [
        "### Random Forest Classifier model with parameter n_estimator = 100"
      ],
      "metadata": {
        "id": "ktHDaYsyXf-B"
      }
    },
    {
      "cell_type": "code",
      "source": [
        "rfc_100 = RandomForestClassifier(n_estimators=100, random_state=0)\n",
        "\n",
        "rfc_100.fit(X_train, y_train)\n",
        "\n",
        "y_pred_100 = rfc_100.predict(X_test)"
      ],
      "metadata": {
        "id": "7EfYIq7TXeuf"
      },
      "execution_count": 31,
      "outputs": []
    },
    {
      "cell_type": "code",
      "source": [
        "# Check Accuracy Score\n",
        "print(\"Model accuracy score with 100 decision-trees : {0:0.4f}\".format(accuracy_score(y_test, y_pred_100)))"
      ],
      "metadata": {
        "colab": {
          "base_uri": "https://localhost:8080/"
        },
        "id": "WKde38pEX0-l",
        "outputId": "5c93d84d-41a2-4c45-ebd0-de53d64b24cb"
      },
      "execution_count": 26,
      "outputs": [
        {
          "output_type": "stream",
          "name": "stdout",
          "text": [
            "Model accuracy score with 100 decision-trees : 0.9457\n"
          ]
        }
      ]
    },
    {
      "cell_type": "code",
      "source": [
        "depths = [10, 20, 30, 40, 50, 60, 70, 80, 90, 100, 200]#, 300, 400, 500, 600, 1000]\n",
        "train_accuracy = []\n",
        "test_accuracy = []\n",
        "for depth in depths:\n",
        "    cars_tree = RandomForestClassifier(n_estimators=depth ,random_state=0)\n",
        "    cars_tree.fit(X_train, y_train)\n",
        "    y_pred_train = cars_tree.predict(X_train)\n",
        "    curr_train_accuracy = metrics.accuracy_score(y_train, y_pred_train)\n",
        "    y_pred_test = cars_tree.predict(X_test)\n",
        "    curr_test_accuracy = metrics.accuracy_score(y_test, y_pred_test)\n",
        "    print(f\"Cars Decision Tree Train|Test Accuracy Score for {depth} depth:\", curr_train_accuracy, '|', curr_test_accuracy)\n",
        "    train_accuracy.append(curr_train_accuracy)\n",
        "    test_accuracy.append(curr_test_accuracy)\n",
        "# sns.mpl.pyplot.plot(depths, train_accuracy, label='Training Set Accuracy Score')\n",
        "sns.mpl.pyplot.plot(depths, test_accuracy, label='Test Set Accuracy Score')\n",
        "sns.mpl.pyplot.xlabel('Maximum Estimators')\n",
        "sns.mpl.pyplot.ylabel('Accuracy Score')\n",
        "sns.mpl.pyplot.legend()\n",
        "sns.mpl.pyplot.grid(True)"
      ],
      "metadata": {
        "colab": {
          "base_uri": "https://localhost:8080/",
          "height": 640
        },
        "id": "cI5EFLdIn04y",
        "outputId": "33f573ce-81a9-4b9f-c017-be8ae95fe9ae"
      },
      "execution_count": 47,
      "outputs": [
        {
          "output_type": "stream",
          "name": "stdout",
          "text": [
            "Cars Decision Tree Train|Test Accuracy Score for 10 depth: 0.9991356957649092 | 0.9246935201401051\n",
            "Cars Decision Tree Train|Test Accuracy Score for 20 depth: 0.9991356957649092 | 0.9369527145359019\n",
            "Cars Decision Tree Train|Test Accuracy Score for 30 depth: 1.0 | 0.9352014010507881\n",
            "Cars Decision Tree Train|Test Accuracy Score for 40 depth: 1.0 | 0.9404553415061296\n",
            "Cars Decision Tree Train|Test Accuracy Score for 50 depth: 1.0 | 0.9422066549912435\n",
            "Cars Decision Tree Train|Test Accuracy Score for 60 depth: 1.0 | 0.9422066549912435\n",
            "Cars Decision Tree Train|Test Accuracy Score for 70 depth: 1.0 | 0.9387040280210157\n",
            "Cars Decision Tree Train|Test Accuracy Score for 80 depth: 1.0 | 0.9422066549912435\n",
            "Cars Decision Tree Train|Test Accuracy Score for 90 depth: 1.0 | 0.9457092819614711\n",
            "Cars Decision Tree Train|Test Accuracy Score for 100 depth: 1.0 | 0.9457092819614711\n",
            "Cars Decision Tree Train|Test Accuracy Score for 200 depth: 1.0 | 0.9404553415061296\n"
          ]
        },
        {
          "output_type": "display_data",
          "data": {
            "text/plain": [
              "<Figure size 640x480 with 1 Axes>"
            ],
            "image/png": "[encoded data removed]"
          },
          "metadata": {}
        }
      ]
    },
    {
      "cell_type": "code",
      "source": [
        "# Export the first three decision trees from the forest\n",
        "\n",
        "for i in range(3):\n",
        "    tree = rfc_100.estimators_[i]\n",
        "    dot_data = export_graphviz(tree,\n",
        "                               feature_names=X_train.columns,\n",
        "                               filled=True,\n",
        "                               max_depth=2,\n",
        "                               impurity=False,\n",
        "                               proportion=True)\n",
        "    graph = graphviz.Source(dot_data)\n",
        "    display(graph)"
      ],
      "metadata": {
        "colab": {
          "base_uri": "https://localhost:8080/",
          "height": 1000
        },
        "id": "IWJxvXhW3t08",
        "outputId": "2b2e0ab6-41d6-4cc4-ca5a-2ae81a9d5026"
      },
      "execution_count": 50,
      "outputs": [
        {
          "output_type": "display_data",
          "data": {
            "image/svg+xml": "<?xml version=\"1.0\" encoding=\"UTF-8\" standalone=\"no\"?>\n<!DOCTYPE svg PUBLIC \"-//W3C//DTD SVG 1.1//EN\"\n \"http://www.w3.org/Graphics/SVG/1.1/DTD/svg11.dtd\">\n<!-- Generated by graphviz version 2.43.0 (0)\n -->\n<!-- Title: Tree Pages: 1 -->\n<svg width=\"892pt\" height=\"311pt\"\n viewBox=\"0.00 0.00 892.00 311.00\" xmlns=\"http://www.w3.org/2000/svg\" xmlns:xlink=\"http://www.w3.org/1999/xlink\">\n<g id=\"graph0\" class=\"graph\" transform=\"scale(1 1) rotate(0) translate(4 307)\">\n<title>Tree</title>\n<polygon fill=\"white\" stroke=\"transparent\" points=\"-4,4 -4,-307 888,-307 888,4 -4,4\"/>\n<!-- 0 -->\n<g id=\"node1\" class=\"node\">\n<title>0</title>\n<polygon fill=\"#80c0ee\" stroke=\"black\" points=\"519,-303 289,-303 289,-250 519,-250 519,-303\"/>\n<text text-anchor=\"middle\" x=\"404\" y=\"-287.8\" font-family=\"Helvetica,sans-Serif\" font-size=\"14.00\">buying &lt;= 2.5</text>\n<text text-anchor=\"middle\" x=\"404\" y=\"-272.8\" font-family=\"Helvetica,sans-Serif\" font-size=\"14.00\">samples = 100.0%</text>\n<text text-anchor=\"middle\" x=\"404\" y=\"-257.8\" font-family=\"Helvetica,sans-Serif\" font-size=\"14.00\">value = [0.214, 0.034, 0.717, 0.035]</text>\n</g>\n<!-- 1 -->\n<g id=\"node2\" class=\"node\">\n<title>1</title>\n<polygon fill=\"#67b4eb\" stroke=\"black\" points=\"380.5,-214 195.5,-214 195.5,-161 380.5,-161 380.5,-214\"/>\n<text text-anchor=\"middle\" x=\"288\" y=\"-198.8\" font-family=\"Helvetica,sans-Serif\" font-size=\"14.00\">safety &lt;= 1.5</text>\n<text text-anchor=\"middle\" x=\"288\" y=\"-183.8\" font-family=\"Helvetica,sans-Serif\" font-size=\"14.00\">samples = 48.3%</text>\n<text text-anchor=\"middle\" x=\"288\" y=\"-168.8\" font-family=\"Helvetica,sans-Serif\" font-size=\"14.00\">value = [0.19, 0.0, 0.81, 0.0]</text>\n</g>\n<!-- 0&#45;&gt;1 -->\n<g id=\"edge1\" class=\"edge\">\n<title>0&#45;&gt;1</title>\n<path fill=\"none\" stroke=\"black\" d=\"M369.82,-249.87C357.54,-240.66 343.54,-230.15 330.63,-220.47\"/>\n<polygon fill=\"black\" stroke=\"black\" points=\"332.43,-217.45 322.33,-214.25 328.23,-223.05 332.43,-217.45\"/>\n<text text-anchor=\"middle\" x=\"325.87\" y=\"-235.3\" font-family=\"Helvetica,sans-Serif\" font-size=\"14.00\">True</text>\n</g>\n<!-- 106 -->\n<g id=\"node7\" class=\"node\">\n<title>106</title>\n<polygon fill=\"#99cdf2\" stroke=\"black\" points=\"636,-214 406,-214 406,-161 636,-161 636,-214\"/>\n<text text-anchor=\"middle\" x=\"521\" y=\"-198.8\" font-family=\"Helvetica,sans-Serif\" font-size=\"14.00\">lug_boot &lt;= 2.5</text>\n<text text-anchor=\"middle\" x=\"521\" y=\"-183.8\" font-family=\"Helvetica,sans-Serif\" font-size=\"14.00\">samples = 51.7%</text>\n<text text-anchor=\"middle\" x=\"521\" y=\"-168.8\" font-family=\"Helvetica,sans-Serif\" font-size=\"14.00\">value = [0.237, 0.065, 0.629, 0.069]</text>\n</g>\n<!-- 0&#45;&gt;106 -->\n<g id=\"edge6\" class=\"edge\">\n<title>0&#45;&gt;106</title>\n<path fill=\"none\" stroke=\"black\" d=\"M438.47,-249.87C450.86,-240.66 464.98,-230.15 478,-220.47\"/>\n<polygon fill=\"black\" stroke=\"black\" points=\"480.43,-223.03 486.37,-214.25 476.26,-217.41 480.43,-223.03\"/>\n<text text-anchor=\"middle\" x=\"482.73\" y=\"-235.28\" font-family=\"Helvetica,sans-Serif\" font-size=\"14.00\">False</text>\n</g>\n<!-- 2 -->\n<g id=\"node3\" class=\"node\">\n<title>2</title>\n<polygon fill=\"#399de5\" stroke=\"black\" points=\"170,-117.5 0,-117.5 0,-79.5 170,-79.5 170,-117.5\"/>\n<text text-anchor=\"middle\" x=\"85\" y=\"-102.3\" font-family=\"Helvetica,sans-Serif\" font-size=\"14.00\">samples = 16.6%</text>\n<text text-anchor=\"middle\" x=\"85\" y=\"-87.3\" font-family=\"Helvetica,sans-Serif\" font-size=\"14.00\">value = [0.0, 0.0, 1.0, 0.0]</text>\n</g>\n<!-- 1&#45;&gt;2 -->\n<g id=\"edge2\" class=\"edge\">\n<title>1&#45;&gt;2</title>\n<path fill=\"none\" stroke=\"black\" d=\"M228.46,-160.98C199.24,-148.46 164.39,-133.53 136.36,-121.51\"/>\n<polygon fill=\"black\" stroke=\"black\" points=\"137.7,-118.28 127.13,-117.55 134.94,-124.71 137.7,-118.28\"/>\n</g>\n<!-- 3 -->\n<g id=\"node4\" class=\"node\">\n<title>3</title>\n<polygon fill=\"#8dc7f0\" stroke=\"black\" points=\"388,-125 188,-125 188,-72 388,-72 388,-125\"/>\n<text text-anchor=\"middle\" x=\"288\" y=\"-109.8\" font-family=\"Helvetica,sans-Serif\" font-size=\"14.00\">maint &lt;= 2.5</text>\n<text text-anchor=\"middle\" x=\"288\" y=\"-94.8\" font-family=\"Helvetica,sans-Serif\" font-size=\"14.00\">samples = 31.6%</text>\n<text text-anchor=\"middle\" x=\"288\" y=\"-79.8\" font-family=\"Helvetica,sans-Serif\" font-size=\"14.00\">value = [0.298, 0.0, 0.702, 0.0]</text>\n</g>\n<!-- 1&#45;&gt;3 -->\n<g id=\"edge3\" class=\"edge\">\n<title>1&#45;&gt;3</title>\n<path fill=\"none\" stroke=\"black\" d=\"M288,-160.87C288,-152.89 288,-143.93 288,-135.38\"/>\n<polygon fill=\"black\" stroke=\"black\" points=\"291.5,-135.25 288,-125.25 284.5,-135.25 291.5,-135.25\"/>\n</g>\n<!-- 4 -->\n<g id=\"node5\" class=\"node\">\n<title>4</title>\n<polygon fill=\"#c0c0c0\" stroke=\"black\" points=\"279,-36 225,-36 225,0 279,0 279,-36\"/>\n<text text-anchor=\"middle\" x=\"252\" y=\"-14.3\" font-family=\"Helvetica,sans-Serif\" font-size=\"14.00\">(...)</text>\n</g>\n<!-- 3&#45;&gt;4 -->\n<g id=\"edge4\" class=\"edge\">\n<title>3&#45;&gt;4</title>\n<path fill=\"none\" stroke=\"black\" d=\"M276.21,-71.8C272.34,-63.35 268.03,-53.95 264.13,-45.45\"/>\n<polygon fill=\"black\" stroke=\"black\" points=\"267.3,-43.96 259.95,-36.33 260.93,-46.88 267.3,-43.96\"/>\n</g>\n<!-- 37 -->\n<g id=\"node6\" class=\"node\">\n<title>37</title>\n<polygon fill=\"#c0c0c0\" stroke=\"black\" points=\"351,-36 297,-36 297,0 351,0 351,-36\"/>\n<text text-anchor=\"middle\" x=\"324\" y=\"-14.3\" font-family=\"Helvetica,sans-Serif\" font-size=\"14.00\">(...)</text>\n</g>\n<!-- 3&#45;&gt;37 -->\n<g id=\"edge5\" class=\"edge\">\n<title>3&#45;&gt;37</title>\n<path fill=\"none\" stroke=\"black\" d=\"M299.79,-71.8C303.66,-63.35 307.97,-53.95 311.87,-45.45\"/>\n<polygon fill=\"black\" stroke=\"black\" points=\"315.07,-46.88 316.05,-36.33 308.7,-43.96 315.07,-46.88\"/>\n</g>\n<!-- 107 -->\n<g id=\"node8\" class=\"node\">\n<title>107</title>\n<polygon fill=\"#8bc6f0\" stroke=\"black\" points=\"636,-125 406,-125 406,-72 636,-72 636,-125\"/>\n<text text-anchor=\"middle\" x=\"521\" y=\"-109.8\" font-family=\"Helvetica,sans-Serif\" font-size=\"14.00\">safety &lt;= 1.5</text>\n<text text-anchor=\"middle\" x=\"521\" y=\"-94.8\" font-family=\"Helvetica,sans-Serif\" font-size=\"14.00\">samples = 33.7%</text>\n<text text-anchor=\"middle\" x=\"521\" y=\"-79.8\" font-family=\"Helvetica,sans-Serif\" font-size=\"14.00\">value = [0.219, 0.069, 0.676, 0.036]</text>\n</g>\n<!-- 106&#45;&gt;107 -->\n<g id=\"edge7\" class=\"edge\">\n<title>106&#45;&gt;107</title>\n<path fill=\"none\" stroke=\"black\" d=\"M521,-160.87C521,-152.89 521,-143.93 521,-135.38\"/>\n<polygon fill=\"black\" stroke=\"black\" points=\"524.5,-135.25 521,-125.25 517.5,-135.25 524.5,-135.25\"/>\n</g>\n<!-- 274 -->\n<g id=\"node11\" class=\"node\">\n<title>274</title>\n<polygon fill=\"#b6dbf5\" stroke=\"black\" points=\"884,-125 654,-125 654,-72 884,-72 884,-125\"/>\n<text text-anchor=\"middle\" x=\"769\" y=\"-109.8\" font-family=\"Helvetica,sans-Serif\" font-size=\"14.00\">safety &lt;= 1.5</text>\n<text text-anchor=\"middle\" x=\"769\" y=\"-94.8\" font-family=\"Helvetica,sans-Serif\" font-size=\"14.00\">samples = 18.0%</text>\n<text text-anchor=\"middle\" x=\"769\" y=\"-79.8\" font-family=\"Helvetica,sans-Serif\" font-size=\"14.00\">value = [0.273, 0.057, 0.541, 0.129]</text>\n</g>\n<!-- 106&#45;&gt;274 -->\n<g id=\"edge10\" class=\"edge\">\n<title>106&#45;&gt;274</title>\n<path fill=\"none\" stroke=\"black\" d=\"M593.73,-160.98C622.88,-150.76 656.61,-138.93 686.65,-128.39\"/>\n<polygon fill=\"black\" stroke=\"black\" points=\"687.99,-131.63 696.27,-125.01 685.67,-125.02 687.99,-131.63\"/>\n</g>\n<!-- 108 -->\n<g id=\"node9\" class=\"node\">\n<title>108</title>\n<polygon fill=\"#c0c0c0\" stroke=\"black\" points=\"512,-36 458,-36 458,0 512,0 512,-36\"/>\n<text text-anchor=\"middle\" x=\"485\" y=\"-14.3\" font-family=\"Helvetica,sans-Serif\" font-size=\"14.00\">(...)</text>\n</g>\n<!-- 107&#45;&gt;108 -->\n<g id=\"edge8\" class=\"edge\">\n<title>107&#45;&gt;108</title>\n<path fill=\"none\" stroke=\"black\" d=\"M509.21,-71.8C505.34,-63.35 501.03,-53.95 497.13,-45.45\"/>\n<polygon fill=\"black\" stroke=\"black\" points=\"500.3,-43.96 492.95,-36.33 493.93,-46.88 500.3,-43.96\"/>\n</g>\n<!-- 109 -->\n<g id=\"node10\" class=\"node\">\n<title>109</title>\n<polygon fill=\"#c0c0c0\" stroke=\"black\" points=\"584,-36 530,-36 530,0 584,0 584,-36\"/>\n<text text-anchor=\"middle\" x=\"557\" y=\"-14.3\" font-family=\"Helvetica,sans-Serif\" font-size=\"14.00\">(...)</text>\n</g>\n<!-- 107&#45;&gt;109 -->\n<g id=\"edge9\" class=\"edge\">\n<title>107&#45;&gt;109</title>\n<path fill=\"none\" stroke=\"black\" d=\"M532.79,-71.8C536.66,-63.35 540.97,-53.95 544.87,-45.45\"/>\n<polygon fill=\"black\" stroke=\"black\" points=\"548.07,-46.88 549.05,-36.33 541.7,-43.96 548.07,-46.88\"/>\n</g>\n<!-- 275 -->\n<g id=\"node12\" class=\"node\">\n<title>275</title>\n<polygon fill=\"#c0c0c0\" stroke=\"black\" points=\"760,-36 706,-36 706,0 760,0 760,-36\"/>\n<text text-anchor=\"middle\" x=\"733\" y=\"-14.3\" font-family=\"Helvetica,sans-Serif\" font-size=\"14.00\">(...)</text>\n</g>\n<!-- 274&#45;&gt;275 -->\n<g id=\"edge11\" class=\"edge\">\n<title>274&#45;&gt;275</title>\n<path fill=\"none\" stroke=\"black\" d=\"M757.21,-71.8C753.34,-63.35 749.03,-53.95 745.13,-45.45\"/>\n<polygon fill=\"black\" stroke=\"black\" points=\"748.3,-43.96 740.95,-36.33 741.93,-46.88 748.3,-43.96\"/>\n</g>\n<!-- 276 -->\n<g id=\"node13\" class=\"node\">\n<title>276</title>\n<polygon fill=\"#c0c0c0\" stroke=\"black\" points=\"832,-36 778,-36 778,0 832,0 832,-36\"/>\n<text text-anchor=\"middle\" x=\"805\" y=\"-14.3\" font-family=\"Helvetica,sans-Serif\" font-size=\"14.00\">(...)</text>\n</g>\n<!-- 274&#45;&gt;276 -->\n<g id=\"edge12\" class=\"edge\">\n<title>274&#45;&gt;276</title>\n<path fill=\"none\" stroke=\"black\" d=\"M780.79,-71.8C784.66,-63.35 788.97,-53.95 792.87,-45.45\"/>\n<polygon fill=\"black\" stroke=\"black\" points=\"796.07,-46.88 797.05,-36.33 789.7,-43.96 796.07,-46.88\"/>\n</g>\n</g>\n</svg>\n",
            "text/plain": [
              "<graphviz.sources.Source at 0x78fc60fa7a00>"
            ]
          },
          "metadata": {}
        },
        {
          "output_type": "display_data",
          "data": {
            "image/svg+xml": "<?xml version=\"1.0\" encoding=\"UTF-8\" standalone=\"no\"?>\n<!DOCTYPE svg PUBLIC \"-//W3C//DTD SVG 1.1//EN\"\n \"http://www.w3.org/Graphics/SVG/1.1/DTD/svg11.dtd\">\n<!-- Generated by graphviz version 2.43.0 (0)\n -->\n<!-- Title: Tree Pages: 1 -->\n<svg width=\"539pt\" height=\"311pt\"\n viewBox=\"0.00 0.00 538.50 311.00\" xmlns=\"http://www.w3.org/2000/svg\" xmlns:xlink=\"http://www.w3.org/1999/xlink\">\n<g id=\"graph0\" class=\"graph\" transform=\"scale(1 1) rotate(0) translate(4 307)\">\n<title>Tree</title>\n<polygon fill=\"white\" stroke=\"transparent\" points=\"-4,4 -4,-307 534.5,-307 534.5,4 -4,4\"/>\n<!-- 0 -->\n<g id=\"node1\" class=\"node\">\n<title>0</title>\n<polygon fill=\"#87c3ef\" stroke=\"black\" points=\"451.5,-303 221.5,-303 221.5,-250 451.5,-250 451.5,-303\"/>\n<text text-anchor=\"middle\" x=\"336.5\" y=\"-287.8\" font-family=\"Helvetica,sans-Serif\" font-size=\"14.00\">persons &lt;= 2.5</text>\n<text text-anchor=\"middle\" x=\"336.5\" y=\"-272.8\" font-family=\"Helvetica,sans-Serif\" font-size=\"14.00\">samples = 100.0%</text>\n<text text-anchor=\"middle\" x=\"336.5\" y=\"-257.8\" font-family=\"Helvetica,sans-Serif\" font-size=\"14.00\">value = [0.216, 0.054, 0.692, 0.037]</text>\n</g>\n<!-- 1 -->\n<g id=\"node2\" class=\"node\">\n<title>1</title>\n<polygon fill=\"#b8dcf6\" stroke=\"black\" points=\"342.5,-214 112.5,-214 112.5,-161 342.5,-161 342.5,-214\"/>\n<text text-anchor=\"middle\" x=\"227.5\" y=\"-198.8\" font-family=\"Helvetica,sans-Serif\" font-size=\"14.00\">maint &lt;= 2.5</text>\n<text text-anchor=\"middle\" x=\"227.5\" y=\"-183.8\" font-family=\"Helvetica,sans-Serif\" font-size=\"14.00\">samples = 68.7%</text>\n<text text-anchor=\"middle\" x=\"227.5\" y=\"-168.8\" font-family=\"Helvetica,sans-Serif\" font-size=\"14.00\">value = [0.311, 0.078, 0.558, 0.053]</text>\n</g>\n<!-- 0&#45;&gt;1 -->\n<g id=\"edge1\" class=\"edge\">\n<title>0&#45;&gt;1</title>\n<path fill=\"none\" stroke=\"black\" d=\"M304.39,-249.87C292.96,-240.75 279.94,-230.35 267.9,-220.75\"/>\n<polygon fill=\"black\" stroke=\"black\" points=\"269.76,-217.75 259.76,-214.25 265.39,-223.22 269.76,-217.75\"/>\n<text text-anchor=\"middle\" x=\"262.55\" y=\"-235.39\" font-family=\"Helvetica,sans-Serif\" font-size=\"14.00\">True</text>\n</g>\n<!-- 308 -->\n<g id=\"node9\" class=\"node\">\n<title>308</title>\n<polygon fill=\"#399de5\" stroke=\"black\" points=\"530.5,-206.5 360.5,-206.5 360.5,-168.5 530.5,-168.5 530.5,-206.5\"/>\n<text text-anchor=\"middle\" x=\"445.5\" y=\"-191.3\" font-family=\"Helvetica,sans-Serif\" font-size=\"14.00\">samples = 31.3%</text>\n<text text-anchor=\"middle\" x=\"445.5\" y=\"-176.3\" font-family=\"Helvetica,sans-Serif\" font-size=\"14.00\">value = [0.0, 0.0, 1.0, 0.0]</text>\n</g>\n<!-- 0&#45;&gt;308 -->\n<g id=\"edge8\" class=\"edge\">\n<title>0&#45;&gt;308</title>\n<path fill=\"none\" stroke=\"black\" d=\"M368.61,-249.87C383.21,-238.22 400.39,-224.5 414.81,-212.99\"/>\n<polygon fill=\"black\" stroke=\"black\" points=\"417.31,-215.48 422.94,-206.51 412.94,-210.01 417.31,-215.48\"/>\n<text text-anchor=\"middle\" x=\"420.15\" y=\"-227.65\" font-family=\"Helvetica,sans-Serif\" font-size=\"14.00\">False</text>\n</g>\n<!-- 2 -->\n<g id=\"node3\" class=\"node\">\n<title>2</title>\n<polygon fill=\"#8dc7f0\" stroke=\"black\" points=\"215,-125 0,-125 0,-72 215,-72 215,-125\"/>\n<text text-anchor=\"middle\" x=\"107.5\" y=\"-109.8\" font-family=\"Helvetica,sans-Serif\" font-size=\"14.00\">lug_boot &lt;= 1.5</text>\n<text text-anchor=\"middle\" x=\"107.5\" y=\"-94.8\" font-family=\"Helvetica,sans-Serif\" font-size=\"14.00\">samples = 33.0%</text>\n<text text-anchor=\"middle\" x=\"107.5\" y=\"-79.8\" font-family=\"Helvetica,sans-Serif\" font-size=\"14.00\">value = [0.274, 0.0, 0.691, 0.035]</text>\n</g>\n<!-- 1&#45;&gt;2 -->\n<g id=\"edge2\" class=\"edge\">\n<title>1&#45;&gt;2</title>\n<path fill=\"none\" stroke=\"black\" d=\"M192.15,-160.87C179.32,-151.57 164.68,-140.95 151.22,-131.2\"/>\n<polygon fill=\"black\" stroke=\"black\" points=\"153.17,-128.29 143.02,-125.25 149.06,-133.95 153.17,-128.29\"/>\n</g>\n<!-- 141 -->\n<g id=\"node6\" class=\"node\">\n<title>141</title>\n<polygon fill=\"#e6f3fc\" stroke=\"black\" points=\"463.5,-125 233.5,-125 233.5,-72 463.5,-72 463.5,-125\"/>\n<text text-anchor=\"middle\" x=\"348.5\" y=\"-109.8\" font-family=\"Helvetica,sans-Serif\" font-size=\"14.00\">lug_boot &lt;= 2.5</text>\n<text text-anchor=\"middle\" x=\"348.5\" y=\"-94.8\" font-family=\"Helvetica,sans-Serif\" font-size=\"14.00\">samples = 35.8%</text>\n<text text-anchor=\"middle\" x=\"348.5\" y=\"-79.8\" font-family=\"Helvetica,sans-Serif\" font-size=\"14.00\">value = [0.346, 0.155, 0.428, 0.071]</text>\n</g>\n<!-- 1&#45;&gt;141 -->\n<g id=\"edge5\" class=\"edge\">\n<title>1&#45;&gt;141</title>\n<path fill=\"none\" stroke=\"black\" d=\"M263.15,-160.87C276.08,-151.57 290.85,-140.95 304.42,-131.2\"/>\n<polygon fill=\"black\" stroke=\"black\" points=\"306.61,-133.93 312.69,-125.25 302.52,-128.25 306.61,-133.93\"/>\n</g>\n<!-- 3 -->\n<g id=\"node4\" class=\"node\">\n<title>3</title>\n<polygon fill=\"#c0c0c0\" stroke=\"black\" points=\"98.5,-36 44.5,-36 44.5,0 98.5,0 98.5,-36\"/>\n<text text-anchor=\"middle\" x=\"71.5\" y=\"-14.3\" font-family=\"Helvetica,sans-Serif\" font-size=\"14.00\">(...)</text>\n</g>\n<!-- 2&#45;&gt;3 -->\n<g id=\"edge3\" class=\"edge\">\n<title>2&#45;&gt;3</title>\n<path fill=\"none\" stroke=\"black\" d=\"M95.71,-71.8C91.84,-63.35 87.53,-53.95 83.63,-45.45\"/>\n<polygon fill=\"black\" stroke=\"black\" points=\"86.8,-43.96 79.45,-36.33 80.43,-46.88 86.8,-43.96\"/>\n</g>\n<!-- 78 -->\n<g id=\"node5\" class=\"node\">\n<title>78</title>\n<polygon fill=\"#c0c0c0\" stroke=\"black\" points=\"170.5,-36 116.5,-36 116.5,0 170.5,0 170.5,-36\"/>\n<text text-anchor=\"middle\" x=\"143.5\" y=\"-14.3\" font-family=\"Helvetica,sans-Serif\" font-size=\"14.00\">(...)</text>\n</g>\n<!-- 2&#45;&gt;78 -->\n<g id=\"edge4\" class=\"edge\">\n<title>2&#45;&gt;78</title>\n<path fill=\"none\" stroke=\"black\" d=\"M119.29,-71.8C123.16,-63.35 127.47,-53.95 131.37,-45.45\"/>\n<polygon fill=\"black\" stroke=\"black\" points=\"134.57,-46.88 135.55,-36.33 128.2,-43.96 134.57,-46.88\"/>\n</g>\n<!-- 142 -->\n<g id=\"node7\" class=\"node\">\n<title>142</title>\n<polygon fill=\"#c0c0c0\" stroke=\"black\" points=\"339.5,-36 285.5,-36 285.5,0 339.5,0 339.5,-36\"/>\n<text text-anchor=\"middle\" x=\"312.5\" y=\"-14.3\" font-family=\"Helvetica,sans-Serif\" font-size=\"14.00\">(...)</text>\n</g>\n<!-- 141&#45;&gt;142 -->\n<g id=\"edge6\" class=\"edge\">\n<title>141&#45;&gt;142</title>\n<path fill=\"none\" stroke=\"black\" d=\"M336.71,-71.8C332.84,-63.35 328.53,-53.95 324.63,-45.45\"/>\n<polygon fill=\"black\" stroke=\"black\" points=\"327.8,-43.96 320.45,-36.33 321.43,-46.88 327.8,-43.96\"/>\n</g>\n<!-- 275 -->\n<g id=\"node8\" class=\"node\">\n<title>275</title>\n<polygon fill=\"#c0c0c0\" stroke=\"black\" points=\"411.5,-36 357.5,-36 357.5,0 411.5,0 411.5,-36\"/>\n<text text-anchor=\"middle\" x=\"384.5\" y=\"-14.3\" font-family=\"Helvetica,sans-Serif\" font-size=\"14.00\">(...)</text>\n</g>\n<!-- 141&#45;&gt;275 -->\n<g id=\"edge7\" class=\"edge\">\n<title>141&#45;&gt;275</title>\n<path fill=\"none\" stroke=\"black\" d=\"M360.29,-71.8C364.16,-63.35 368.47,-53.95 372.37,-45.45\"/>\n<polygon fill=\"black\" stroke=\"black\" points=\"375.57,-46.88 376.55,-36.33 369.2,-43.96 375.57,-46.88\"/>\n</g>\n</g>\n</svg>\n",
            "text/plain": [
              "<graphviz.sources.Source at 0x78fc5d64a320>"
            ]
          },
          "metadata": {}
        },
        {
          "output_type": "display_data",
          "data": {
            "image/svg+xml": "<?xml version=\"1.0\" encoding=\"UTF-8\" standalone=\"no\"?>\n<!DOCTYPE svg PUBLIC \"-//W3C//DTD SVG 1.1//EN\"\n \"http://www.w3.org/Graphics/SVG/1.1/DTD/svg11.dtd\">\n<!-- Generated by graphviz version 2.43.0 (0)\n -->\n<!-- Title: Tree Pages: 1 -->\n<svg width=\"535pt\" height=\"311pt\"\n viewBox=\"0.00 0.00 534.50 311.00\" xmlns=\"http://www.w3.org/2000/svg\" xmlns:xlink=\"http://www.w3.org/1999/xlink\">\n<g id=\"graph0\" class=\"graph\" transform=\"scale(1 1) rotate(0) translate(4 307)\">\n<title>Tree</title>\n<polygon fill=\"white\" stroke=\"transparent\" points=\"-4,4 -4,-307 530.5,-307 530.5,4 -4,4\"/>\n<!-- 0 -->\n<g id=\"node1\" class=\"node\">\n<title>0</title>\n<polygon fill=\"#86c3ef\" stroke=\"black\" points=\"449.5,-303 219.5,-303 219.5,-250 449.5,-250 449.5,-303\"/>\n<text text-anchor=\"middle\" x=\"334.5\" y=\"-287.8\" font-family=\"Helvetica,sans-Serif\" font-size=\"14.00\">persons &lt;= 2.5</text>\n<text text-anchor=\"middle\" x=\"334.5\" y=\"-272.8\" font-family=\"Helvetica,sans-Serif\" font-size=\"14.00\">samples = 100.0%</text>\n<text text-anchor=\"middle\" x=\"334.5\" y=\"-257.8\" font-family=\"Helvetica,sans-Serif\" font-size=\"14.00\">value = [0.213, 0.055, 0.693, 0.039]</text>\n</g>\n<!-- 1 -->\n<g id=\"node2\" class=\"node\">\n<title>1</title>\n<polygon fill=\"#b8dcf6\" stroke=\"black\" points=\"338.5,-214 116.5,-214 116.5,-161 338.5,-161 338.5,-214\"/>\n<text text-anchor=\"middle\" x=\"227.5\" y=\"-198.8\" font-family=\"Helvetica,sans-Serif\" font-size=\"14.00\">maint &lt;= 2.5</text>\n<text text-anchor=\"middle\" x=\"227.5\" y=\"-183.8\" font-family=\"Helvetica,sans-Serif\" font-size=\"14.00\">samples = 68.7%</text>\n<text text-anchor=\"middle\" x=\"227.5\" y=\"-168.8\" font-family=\"Helvetica,sans-Serif\" font-size=\"14.00\">value = [0.308, 0.08, 0.556, 0.056]</text>\n</g>\n<!-- 0&#45;&gt;1 -->\n<g id=\"edge1\" class=\"edge\">\n<title>0&#45;&gt;1</title>\n<path fill=\"none\" stroke=\"black\" d=\"M302.98,-249.87C291.76,-240.75 278.98,-230.35 267.16,-220.75\"/>\n<polygon fill=\"black\" stroke=\"black\" points=\"269.14,-217.84 259.17,-214.25 264.72,-223.27 269.14,-217.84\"/>\n<text text-anchor=\"middle\" x=\"261.73\" y=\"-235.42\" font-family=\"Helvetica,sans-Serif\" font-size=\"14.00\">True</text>\n</g>\n<!-- 284 -->\n<g id=\"node9\" class=\"node\">\n<title>284</title>\n<polygon fill=\"#399de5\" stroke=\"black\" points=\"526.5,-206.5 356.5,-206.5 356.5,-168.5 526.5,-168.5 526.5,-206.5\"/>\n<text text-anchor=\"middle\" x=\"441.5\" y=\"-191.3\" font-family=\"Helvetica,sans-Serif\" font-size=\"14.00\">samples = 31.3%</text>\n<text text-anchor=\"middle\" x=\"441.5\" y=\"-176.3\" font-family=\"Helvetica,sans-Serif\" font-size=\"14.00\">value = [0.0, 0.0, 1.0, 0.0]</text>\n</g>\n<!-- 0&#45;&gt;284 -->\n<g id=\"edge8\" class=\"edge\">\n<title>0&#45;&gt;284</title>\n<path fill=\"none\" stroke=\"black\" d=\"M366.02,-249.87C380.35,-238.22 397.22,-224.5 411.37,-212.99\"/>\n<polygon fill=\"black\" stroke=\"black\" points=\"413.8,-215.53 419.35,-206.51 409.39,-210.1 413.8,-215.53\"/>\n<text text-anchor=\"middle\" x=\"416.79\" y=\"-227.67\" font-family=\"Helvetica,sans-Serif\" font-size=\"14.00\">False</text>\n</g>\n<!-- 2 -->\n<g id=\"node3\" class=\"node\">\n<title>2</title>\n<polygon fill=\"#8fc7f0\" stroke=\"black\" points=\"215,-125 0,-125 0,-72 215,-72 215,-125\"/>\n<text text-anchor=\"middle\" x=\"107.5\" y=\"-109.8\" font-family=\"Helvetica,sans-Serif\" font-size=\"14.00\">lug_boot &lt;= 2.5</text>\n<text text-anchor=\"middle\" x=\"107.5\" y=\"-94.8\" font-family=\"Helvetica,sans-Serif\" font-size=\"14.00\">samples = 33.6%</text>\n<text text-anchor=\"middle\" x=\"107.5\" y=\"-79.8\" font-family=\"Helvetica,sans-Serif\" font-size=\"14.00\">value = [0.278, 0.0, 0.688, 0.034]</text>\n</g>\n<!-- 1&#45;&gt;2 -->\n<g id=\"edge2\" class=\"edge\">\n<title>1&#45;&gt;2</title>\n<path fill=\"none\" stroke=\"black\" d=\"M192.15,-160.87C179.32,-151.57 164.68,-140.95 151.22,-131.2\"/>\n<polygon fill=\"black\" stroke=\"black\" points=\"153.17,-128.29 143.02,-125.25 149.06,-133.95 153.17,-128.29\"/>\n</g>\n<!-- 127 -->\n<g id=\"node6\" class=\"node\">\n<title>127</title>\n<polygon fill=\"#e2f1fb\" stroke=\"black\" points=\"463.5,-125 233.5,-125 233.5,-72 463.5,-72 463.5,-125\"/>\n<text text-anchor=\"middle\" x=\"348.5\" y=\"-109.8\" font-family=\"Helvetica,sans-Serif\" font-size=\"14.00\">safety &lt;= 1.5</text>\n<text text-anchor=\"middle\" x=\"348.5\" y=\"-94.8\" font-family=\"Helvetica,sans-Serif\" font-size=\"14.00\">samples = 35.0%</text>\n<text text-anchor=\"middle\" x=\"348.5\" y=\"-79.8\" font-family=\"Helvetica,sans-Serif\" font-size=\"14.00\">value = [0.335, 0.155, 0.432, 0.078]</text>\n</g>\n<!-- 1&#45;&gt;127 -->\n<g id=\"edge5\" class=\"edge\">\n<title>1&#45;&gt;127</title>\n<path fill=\"none\" stroke=\"black\" d=\"M263.15,-160.87C276.08,-151.57 290.85,-140.95 304.42,-131.2\"/>\n<polygon fill=\"black\" stroke=\"black\" points=\"306.61,-133.93 312.69,-125.25 302.52,-128.25 306.61,-133.93\"/>\n</g>\n<!-- 3 -->\n<g id=\"node4\" class=\"node\">\n<title>3</title>\n<polygon fill=\"#c0c0c0\" stroke=\"black\" points=\"98.5,-36 44.5,-36 44.5,0 98.5,0 98.5,-36\"/>\n<text text-anchor=\"middle\" x=\"71.5\" y=\"-14.3\" font-family=\"Helvetica,sans-Serif\" font-size=\"14.00\">(...)</text>\n</g>\n<!-- 2&#45;&gt;3 -->\n<g id=\"edge3\" class=\"edge\">\n<title>2&#45;&gt;3</title>\n<path fill=\"none\" stroke=\"black\" d=\"M95.71,-71.8C91.84,-63.35 87.53,-53.95 83.63,-45.45\"/>\n<polygon fill=\"black\" stroke=\"black\" points=\"86.8,-43.96 79.45,-36.33 80.43,-46.88 86.8,-43.96\"/>\n</g>\n<!-- 78 -->\n<g id=\"node5\" class=\"node\">\n<title>78</title>\n<polygon fill=\"#c0c0c0\" stroke=\"black\" points=\"170.5,-36 116.5,-36 116.5,0 170.5,0 170.5,-36\"/>\n<text text-anchor=\"middle\" x=\"143.5\" y=\"-14.3\" font-family=\"Helvetica,sans-Serif\" font-size=\"14.00\">(...)</text>\n</g>\n<!-- 2&#45;&gt;78 -->\n<g id=\"edge4\" class=\"edge\">\n<title>2&#45;&gt;78</title>\n<path fill=\"none\" stroke=\"black\" d=\"M119.29,-71.8C123.16,-63.35 127.47,-53.95 131.37,-45.45\"/>\n<polygon fill=\"black\" stroke=\"black\" points=\"134.57,-46.88 135.55,-36.33 128.2,-43.96 134.57,-46.88\"/>\n</g>\n<!-- 128 -->\n<g id=\"node7\" class=\"node\">\n<title>128</title>\n<polygon fill=\"#c0c0c0\" stroke=\"black\" points=\"339.5,-36 285.5,-36 285.5,0 339.5,0 339.5,-36\"/>\n<text text-anchor=\"middle\" x=\"312.5\" y=\"-14.3\" font-family=\"Helvetica,sans-Serif\" font-size=\"14.00\">(...)</text>\n</g>\n<!-- 127&#45;&gt;128 -->\n<g id=\"edge6\" class=\"edge\">\n<title>127&#45;&gt;128</title>\n<path fill=\"none\" stroke=\"black\" d=\"M336.71,-71.8C332.84,-63.35 328.53,-53.95 324.63,-45.45\"/>\n<polygon fill=\"black\" stroke=\"black\" points=\"327.8,-43.96 320.45,-36.33 321.43,-46.88 327.8,-43.96\"/>\n</g>\n<!-- 129 -->\n<g id=\"node8\" class=\"node\">\n<title>129</title>\n<polygon fill=\"#c0c0c0\" stroke=\"black\" points=\"411.5,-36 357.5,-36 357.5,0 411.5,0 411.5,-36\"/>\n<text text-anchor=\"middle\" x=\"384.5\" y=\"-14.3\" font-family=\"Helvetica,sans-Serif\" font-size=\"14.00\">(...)</text>\n</g>\n<!-- 127&#45;&gt;129 -->\n<g id=\"edge7\" class=\"edge\">\n<title>127&#45;&gt;129</title>\n<path fill=\"none\" stroke=\"black\" d=\"M360.29,-71.8C364.16,-63.35 368.47,-53.95 372.37,-45.45\"/>\n<polygon fill=\"black\" stroke=\"black\" points=\"375.57,-46.88 376.55,-36.33 369.2,-43.96 375.57,-46.88\"/>\n</g>\n</g>\n</svg>\n",
            "text/plain": [
              "<graphviz.sources.Source at 0x78fc60ecd900>"
            ]
          },
          "metadata": {}
        }
      ]
    },
    {
      "cell_type": "markdown",
      "source": [
        "### Find imporatnt features with Random Forest model"
      ],
      "metadata": {
        "id": "eb6HrJE9YNOY"
      }
    },
    {
      "cell_type": "code",
      "source": [
        "# Creating a classifier with n_estimators = 100\n",
        "\n",
        "clf = RandomForestClassifier(n_estimators=100, random_state=0)\n",
        "\n",
        "clf.fit(X_train, y_train)"
      ],
      "metadata": {
        "colab": {
          "base_uri": "https://localhost:8080/",
          "height": 75
        },
        "id": "PcyPEMfQYLR4",
        "outputId": "d4e17baa-25cf-44fa-80ce-00581722ec19"
      },
      "execution_count": null,
      "outputs": [
        {
          "output_type": "execute_result",
          "data": {
            "text/plain": [
              "RandomForestClassifier(random_state=0)"
            ],
            "text/html": [
              "<style>#sk-container-id-1 {color: black;background-color: white;}#sk-container-id-1 pre{padding: 0;}#sk-container-id-1 div.sk-toggleable {background-color: white;}#sk-container-id-1 label.sk-toggleable__label {cursor: pointer;display: block;width: 100%;margin-bottom: 0;padding: 0.3em;box-sizing: border-box;text-align: center;}#sk-container-id-1 label.sk-toggleable__label-arrow:before {content: \"▸\";float: left;margin-right: 0.25em;color: #696969;}#sk-container-id-1 label.sk-toggleable__label-arrow:hover:before {color: black;}#sk-container-id-1 div.sk-estimator:hover label.sk-toggleable__label-arrow:before {color: black;}#sk-container-id-1 div.sk-toggleable__content {max-height: 0;max-width: 0;overflow: hidden;text-align: left;background-color: #f0f8ff;}#sk-container-id-1 div.sk-toggleable__content pre {margin: 0.2em;color: black;border-radius: 0.25em;background-color: #f0f8ff;}#sk-container-id-1 input.sk-toggleable__control:checked~div.sk-toggleable__content {max-height: 200px;max-width: 100%;overflow: auto;}#sk-container-id-1 input.sk-toggleable__control:checked~label.sk-toggleable__label-arrow:before {content: \"▾\";}#sk-container-id-1 div.sk-estimator input.sk-toggleable__control:checked~label.sk-toggleable__label {background-color: #d4ebff;}#sk-container-id-1 div.sk-label input.sk-toggleable__control:checked~label.sk-toggleable__label {background-color: #d4ebff;}#sk-container-id-1 input.sk-hidden--visually {border: 0;clip: rect(1px 1px 1px 1px);clip: rect(1px, 1px, 1px, 1px);height: 1px;margin: -1px;overflow: hidden;padding: 0;position: absolute;width: 1px;}#sk-container-id-1 div.sk-estimator {font-family: monospace;background-color: #f0f8ff;border: 1px dotted black;border-radius: 0.25em;box-sizing: border-box;margin-bottom: 0.5em;}#sk-container-id-1 div.sk-estimator:hover {background-color: #d4ebff;}#sk-container-id-1 div.sk-parallel-item::after {content: \"\";width: 100%;border-bottom: 1px solid gray;flex-grow: 1;}#sk-container-id-1 div.sk-label:hover label.sk-toggleable__label {background-color: #d4ebff;}#sk-container-id-1 div.sk-serial::before {content: \"\";position: absolute;border-left: 1px solid gray;box-sizing: border-box;top: 0;bottom: 0;left: 50%;z-index: 0;}#sk-container-id-1 div.sk-serial {display: flex;flex-direction: column;align-items: center;background-color: white;padding-right: 0.2em;padding-left: 0.2em;position: relative;}#sk-container-id-1 div.sk-item {position: relative;z-index: 1;}#sk-container-id-1 div.sk-parallel {display: flex;align-items: stretch;justify-content: center;background-color: white;position: relative;}#sk-container-id-1 div.sk-item::before, #sk-container-id-1 div.sk-parallel-item::before {content: \"\";position: absolute;border-left: 1px solid gray;box-sizing: border-box;top: 0;bottom: 0;left: 50%;z-index: -1;}#sk-container-id-1 div.sk-parallel-item {display: flex;flex-direction: column;z-index: 1;position: relative;background-color: white;}#sk-container-id-1 div.sk-parallel-item:first-child::after {align-self: flex-end;width: 50%;}#sk-container-id-1 div.sk-parallel-item:last-child::after {align-self: flex-start;width: 50%;}#sk-container-id-1 div.sk-parallel-item:only-child::after {width: 0;}#sk-container-id-1 div.sk-dashed-wrapped {border: 1px dashed gray;margin: 0 0.4em 0.5em 0.4em;box-sizing: border-box;padding-bottom: 0.4em;background-color: white;}#sk-container-id-1 div.sk-label label {font-family: monospace;font-weight: bold;display: inline-block;line-height: 1.2em;}#sk-container-id-1 div.sk-label-container {text-align: center;}#sk-container-id-1 div.sk-container {/* jupyter's `normalize.less` sets `[hidden] { display: none; }` but bootstrap.min.css set `[hidden] { display: none !important; }` so we also need the `!important` here to be able to override the default hidden behavior on the sphinx rendered scikit-learn.org. See: https://github.com/scikit-learn/scikit-learn/issues/21755 */display: inline-block !important;position: relative;}#sk-container-id-1 div.sk-text-repr-fallback {display: none;}</style><div id=\"sk-container-id-1\" class=\"sk-top-container\"><div class=\"sk-text-repr-fallback\"><pre>RandomForestClassifier(random_state=0)</pre><b>In a Jupyter environment, please rerun this cell to show the HTML representation or trust the notebook. <br />On GitHub, the HTML representation is unable to render, please try loading this page with nbviewer.org.</b></div><div class=\"sk-container\" hidden><div class=\"sk-item\"><div class=\"sk-estimator sk-toggleable\"><input class=\"sk-toggleable__control sk-hidden--visually\" id=\"sk-estimator-id-1\" type=\"checkbox\" checked><label for=\"sk-estimator-id-1\" class=\"sk-toggleable__label sk-toggleable__label-arrow\">RandomForestClassifier</label><div class=\"sk-toggleable__content\"><pre>RandomForestClassifier(random_state=0)</pre></div></div></div></div></div>"
            ]
          },
          "metadata": {},
          "execution_count": 41
        }
      ]
    },
    {
      "cell_type": "code",
      "source": [
        "feature_scores = pd.Series(clf.feature_importances_, index=X_train.columns).sort_values(ascending=False)\n",
        "\n",
        "feature_scores"
      ],
      "metadata": {
        "colab": {
          "base_uri": "https://localhost:8080/"
        },
        "id": "0W_A_kGAYsuO",
        "outputId": "dd18b3a9-de66-47d4-900f-bf72ec19f5be"
      },
      "execution_count": null,
      "outputs": [
        {
          "output_type": "execute_result",
          "data": {
            "text/plain": [
              "safety      0.295319\n",
              "persons     0.233856\n",
              "buying      0.151734\n",
              "maint       0.146653\n",
              "lug_boot    0.100048\n",
              "doors       0.072389\n",
              "dtype: float64"
            ]
          },
          "metadata": {},
          "execution_count": 43
        }
      ]
    },
    {
      "cell_type": "code",
      "source": [
        "sns.barplot(x=feature_scores, y=feature_scores.index)\n",
        "\n",
        "plt.xlabel('Feature Importance Score')\n",
        "plt.ylabel('Features')\n",
        "\n",
        "plt.title(\"Visualizing Important Features\")\n",
        "\n",
        "plt.show()"
      ],
      "metadata": {
        "colab": {
          "base_uri": "https://localhost:8080/",
          "height": 472
        },
        "id": "YN17xmx0mmOs",
        "outputId": "04d61369-827f-4c29-919b-5ed232bbb9c4"
      },
      "execution_count": null,
      "outputs": [
        {
          "output_type": "display_data",
          "data": {
            "text/plain": [
              "<Figure size 640x480 with 1 Axes>"
            ],
            "image/png": "[encoded data removed]"
          },
          "metadata": {}
        }
      ]
    },
    {
      "cell_type": "code",
      "source": [
        "X = df.drop(['class', 'doors'], axis = 1)\n",
        "\n",
        "y = df['class']\n",
        "\n",
        "X_train, X_test, y_train, y_test = train_test_split(X, y, test_size = 0.33, random_state = 42)\n",
        "\n",
        "encoder = ce.OrdinalEncoder(['buying', 'maint', 'persons', 'lug_boot', 'safety'])\n",
        "\n",
        "X_train = encoder.fit_transform(X_train)\n",
        "X_test = encoder.transform(X_test)"
      ],
      "metadata": {
        "id": "NLsUI0IjnahI"
      },
      "execution_count": null,
      "outputs": []
    },
    {
      "cell_type": "code",
      "source": [
        "clf = RandomForestClassifier(n_estimators = 100, random_state = 0)\n",
        "\n",
        "clf.fit(X_train, y_train)\n",
        "\n",
        "y_pred_features = clf.predict(X_test)"
      ],
      "metadata": {
        "id": "Wlqq1yCWoR4b"
      },
      "execution_count": null,
      "outputs": []
    },
    {
      "cell_type": "code",
      "source": [
        "# Check Accuracy Score\n",
        "print(\"Model accuracy score with 100 decision-trees : {0:0.4f}\".format(accuracy_score(y_test, y_pred_features)))"
      ],
      "metadata": {
        "colab": {
          "base_uri": "https://localhost:8080/"
        },
        "id": "URaq6Wuzoj3E",
        "outputId": "436a448b-1f05-468a-f12c-346b16009197"
      },
      "execution_count": null,
      "outputs": [
        {
          "output_type": "stream",
          "name": "stdout",
          "text": [
            "Model accuracy score with 100 decision-trees : 0.9264\n"
          ]
        }
      ]
    },
    {
      "cell_type": "markdown",
      "source": [
        "### Confusion Matrix"
      ],
      "metadata": {
        "id": "RKHPg0eOo3SV"
      }
    },
    {
      "cell_type": "code",
      "source": [
        "cm = confusion_matrix(y_test, y_pred_features)\n",
        "print(\"Confusion Matrix\\n\\n\", cm)\n",
        "plt.figure(figsize=(10, 5))\n",
        "sns.heatmap(cm, annot=True, fmt='d', cmap='Reds')\n",
        "plt.show()"
      ],
      "metadata": {
        "colab": {
          "base_uri": "https://localhost:8080/",
          "height": 549
        },
        "id": "84Xx0Oowo24c",
        "outputId": "93470eef-bc60-4e0a-a846-a42ae501fff9"
      },
      "execution_count": null,
      "outputs": [
        {
          "output_type": "stream",
          "name": "stdout",
          "text": [
            "Confusion Matrix\n",
            "\n",
            " [[104  12  10   3]\n",
            " [  0  18   0   2]\n",
            " [ 10   0 387   0]\n",
            " [  3   2   0  20]]\n"
          ]
        },
        {
          "output_type": "display_data",
          "data": {
            "text/plain": [
              "<Figure size 1000x500 with 2 Axes>"
            ],
            "image/png": "[encoded data removed]"
          },
          "metadata": {}
        }
      ]
    },
    {
      "cell_type": "markdown",
      "source": [
        "### Classification Report"
      ],
      "metadata": {
        "id": "OFkixPpXpX5Z"
      }
    },
    {
      "cell_type": "code",
      "source": [
        "target_names = ['unacc', 'acc', 'good', 'vgood']\n",
        "clf_report = classification_report(y_test,\n",
        "                                   y_pred_features,\n",
        "                                   target_names=target_names,\n",
        "                                   output_dict=True)\n",
        "sns.heatmap(pd.DataFrame(clf_report).iloc[:-1, :].T, annot=True)"
      ],
      "metadata": {
        "colab": {
          "base_uri": "https://localhost:8080/",
          "height": 447
        },
        "id": "Gw_vnt1spaI9",
        "outputId": "abc5d801-aaf5-4970-f1b5-6ceb60d00a13"
      },
      "execution_count": null,
      "outputs": [
        {
          "output_type": "execute_result",
          "data": {
            "text/plain": [
              "<Axes: >"
            ]
          },
          "metadata": {},
          "execution_count": 57
        },
        {
          "output_type": "display_data",
          "data": {
            "text/plain": [
              "<Figure size 640x480 with 2 Axes>"
            ],
            "image/png": "[encoded data removed]"
          },
          "metadata": {}
        }
      ]
    }
  ]
}